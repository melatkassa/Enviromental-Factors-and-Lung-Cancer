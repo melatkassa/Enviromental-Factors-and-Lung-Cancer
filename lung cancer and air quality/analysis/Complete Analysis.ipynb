{
 "cells": [
  {
   "cell_type": "markdown",
   "metadata": {},
   "source": [
    "# Enviromental Factors and Lung Cancer :\n",
    "## Examining the Relationship of Lung cancer Incidencies and Air Quality Measures in California\n",
    "\n",
    "### Report by: Melat Kassa, Kati Driscoll, and Frank Oglesby\n",
    "![](sf_orange_sky.jpg)"
   ]
  },
  {
   "cell_type": "markdown",
   "metadata": {},
   "source": [
    "## Business Problem\n",
    "\n",
    "Cancer is the second leading cause of mortality in the United States. Over 600,000 people are projected to die from cancer in the U.S. in 2020. Furthermore, the Agency for Healthcare Research and Quality estimated that the total of all healthcare costs for cancer in the United States in 2015 were 80.2 billion dollars. Cancer care costs are expected to rise to as high as 173 billion dollars by 2020. Cancer affects the quality of life, community decisions and choices of diagnosed individuals and their families. Socially, the shared perspective of any disease is to prevent it rather than treat it. Concisely identifying the environmental factors could aid in reducing future cases and influence quality of life in the United States. \n",
    "\n",
    "Existing evidence from epidemiologic studies suggest that poor air quality is associated with increased risk of mortality for various types of cancer. Our group wanted to understand the relationship between this environmental factor and lung cancer. Understanding the relationship between lung cancer and the environment could help identify variables that contribute to higher lung cancer rates. "
   ]
  },
  {
   "cell_type": "code",
   "execution_count": 1,
   "metadata": {},
   "outputs": [],
   "source": [
    "import pandas as pd\n",
    "import matplotlib.pyplot as plt\n",
    "import seaborn as sns\n",
    "import numpy as np\n",
    "import glob\n",
    "import functools as ft\n",
    "#import plotly_express as px\n",
    "from sklearn import linear_model\n",
    "import statsmodels.formula.api as sm"
   ]
  },
  {
   "cell_type": "markdown",
   "metadata": {},
   "source": [
    "## Data Sources\n",
    "\n",
    "**We'll begin by looking at three distinct sets of data for the state of California and its 58 counties:**\n",
    "\n",
    "1. EPA AQI (air quality index)\n",
    "2. SEER STAT Cancer Incidents (lung cancer rates)\n",
    "3. Health Professional Shortage Areas (HPSA - areas with high mortality rates and a lack of economic and financial resources)\n",
    "4. California Health Measures (health quality measures across a variety of indicators)\n",
    "\n",
    "\n",
    "## Below is a breakdown of the various data sets and variables we'll be working with:"
   ]
  },
  {
   "cell_type": "markdown",
   "metadata": {},
   "source": [
    "### AQI\n",
    "1. **state:** as we've decided to focus on California, this will only be a sample from this state\n",
    "2. **county:** AQI data for 53-54 of the counties in California, due to data limitations\n",
    "3. **year** because SEER data only runs through 2016, we will study the time period of 2006 - 2016\n",
    "4. **days with AQI:** the number of days per county per year where AQI data was collected\n",
    "5. **good days:** number of days air quality is rated good (0-50 AQI)\n",
    "6. **moderate days:** number of days air quality is rated moderate (51-100 AQI)\n",
    "7. **unhealthy for sensitive groups days:** number of days air quality is rated unhealthy for individuals who are at risk for AQI sensitivity - for example individuals with limited lung capacity, asthma, etc. (101-150 AQI)\n",
    "8. **unhealthy days:** number of days air quality is rated unhealthy (151-200 AQI)\n",
    "9. **very unhealthy days:** number of days air quality is rated very unhealthy for all persons (201-300 AQI)\n",
    "10. **hazardous days:** number of days air quality is rated hazardous for all persons (301-500 AQI)\n",
    "11. **days PM2.5:** days PM2.5 - an air particle associated with lung cancer - was reported\n",
    "\n",
    "**Note:** Because AQI data is not collected in every county every day, we created custom variables which calculate the percentage of days good/moderate/unhealthy/etc. over days AQI was collected to give us a true rate of occurance."
   ]
  },
  {
   "cell_type": "markdown",
   "metadata": {},
   "source": [
    "### SEER STAT Cancer Incidents\n",
    "1. **state:** California\n",
    "2. **county:** SEER data for all 58 counties in California\n",
    "3. **year:** 2006 - 2016\n",
    "4. **patient ID:** unique patient identifier\n",
    "5. **age:** age of patient when diagnosed\n",
    "6. **race:** race of patient\n",
    "7. **sex** sex of patient"
   ]
  },
  {
   "cell_type": "markdown",
   "metadata": {},
   "source": [
    "### Smoking data\n",
    "1. **County:** health data for all 58 counties in California\n",
    "2. **Year** 2010 - 2016\n",
    "3. **Smoking rate:** Smoking rates among adult population"
   ]
  },
  {
   "cell_type": "markdown",
   "metadata": {},
   "source": [
    "### The Health Professional Shortage Area (HPSA)\n",
    "1. **County:** corresponding California county\n",
    "2. **HPSA Score:** This attribute represents the Health Professional Shortage Area (HPSA) Score developed by the National Health Service Corps (NHSC) in determining priorities for assignment of clinicians. The scores range from 0 to 26 where the higher the score, the greater the priority"
   ]
  },
  {
   "cell_type": "markdown",
   "metadata": {},
   "source": [
    "## Importing and Refining the Data\n",
    "\n",
    "### We are first going to import our datasets and we'll take a look at the contents."
   ]
  },
  {
   "cell_type": "code",
   "execution_count": 2,
   "metadata": {},
   "outputs": [],
   "source": [
    "#identify all the csv files in folder\n",
    "file_extension =\".csv\""
   ]
  },
  {
   "cell_type": "code",
   "execution_count": 3,
   "metadata": {},
   "outputs": [],
   "source": [
    "#create a list comprhension for aqi data, cancer data,HSPA, chm, and population using an f string\n",
    "#Note glob.glob('**/*.csv', recursive=True) matches all files ending in '.csv' in the current directory and in all subdirectories\n",
    "aqi_all= [i for i in glob.glob(f\"**/AQI/annual*{file_extension}\", recursive = True)]\n",
    "cancer_all= [i for i in glob.glob(f\"**/cancer/Lung*{file_extension}\", recursive = True)]\n",
    "CHM_all=[i for i in glob.glob(f\"**/California*{file_extension}\", recursive = True)]\n",
    "POP_all=[i for i in glob.glob(f\"**/population/pop*{file_extension}\", recursive = True)]"
   ]
  },
  {
   "cell_type": "markdown",
   "metadata": {},
   "source": [
    "### Calling the AQI dataset\n",
    "\n",
    "Since AQI is not collected every day during a year for each county, we cannot use the number of days in a given category to compare air quality rates between counties or even years. Instead, we must create a % of days for each AQI measurement to reflect the percentage of days that registered varying levels of AQI throughout the county each year."
   ]
  },
  {
   "cell_type": "code",
   "execution_count": 4,
   "metadata": {},
   "outputs": [
    {
     "data": {
      "text/html": [
       "<div>\n",
       "<style scoped>\n",
       "    .dataframe tbody tr th:only-of-type {\n",
       "        vertical-align: middle;\n",
       "    }\n",
       "\n",
       "    .dataframe tbody tr th {\n",
       "        vertical-align: top;\n",
       "    }\n",
       "\n",
       "    .dataframe thead th {\n",
       "        text-align: right;\n",
       "    }\n",
       "</style>\n",
       "<table border=\"1\" class=\"dataframe\">\n",
       "  <thead>\n",
       "    <tr style=\"text-align: right;\">\n",
       "      <th></th>\n",
       "      <th>County</th>\n",
       "      <th>Year</th>\n",
       "      <th>Days_with_AQI</th>\n",
       "      <th>Good_Days</th>\n",
       "      <th>Moderate_Days</th>\n",
       "      <th>Unhealthy_for_Sensitive_Groups_Days</th>\n",
       "      <th>Unhealthy_Days</th>\n",
       "      <th>Very_Unhealthy_Days</th>\n",
       "      <th>Hazardous_Days</th>\n",
       "      <th>Max_AQI</th>\n",
       "      <th>...</th>\n",
       "      <th>Days_SO2</th>\n",
       "      <th>Days_PM2.5</th>\n",
       "      <th>Days_PM10</th>\n",
       "      <th>% Good_Days</th>\n",
       "      <th>% Moderate_Days</th>\n",
       "      <th>% Unhealthy_for_Sensitive_Groups_Days</th>\n",
       "      <th>% Unhealthy_Days</th>\n",
       "      <th>% Very_Unhealthy_Days</th>\n",
       "      <th>% Hazardous_Days</th>\n",
       "      <th>% PM2.5_Days</th>\n",
       "    </tr>\n",
       "  </thead>\n",
       "  <tbody>\n",
       "    <tr>\n",
       "      <th>105</th>\n",
       "      <td>Trinity</td>\n",
       "      <td>2010</td>\n",
       "      <td>122</td>\n",
       "      <td>122</td>\n",
       "      <td>0</td>\n",
       "      <td>0</td>\n",
       "      <td>0</td>\n",
       "      <td>0</td>\n",
       "      <td>0</td>\n",
       "      <td>35</td>\n",
       "      <td>...</td>\n",
       "      <td>0</td>\n",
       "      <td>84</td>\n",
       "      <td>38</td>\n",
       "      <td>100.00</td>\n",
       "      <td>0.00</td>\n",
       "      <td>0.00</td>\n",
       "      <td>0.00</td>\n",
       "      <td>0.0</td>\n",
       "      <td>0.0</td>\n",
       "      <td>68.85</td>\n",
       "    </tr>\n",
       "    <tr>\n",
       "      <th>106</th>\n",
       "      <td>Tulare</td>\n",
       "      <td>2010</td>\n",
       "      <td>365</td>\n",
       "      <td>100</td>\n",
       "      <td>153</td>\n",
       "      <td>78</td>\n",
       "      <td>34</td>\n",
       "      <td>0</td>\n",
       "      <td>0</td>\n",
       "      <td>197</td>\n",
       "      <td>...</td>\n",
       "      <td>0</td>\n",
       "      <td>144</td>\n",
       "      <td>1</td>\n",
       "      <td>27.40</td>\n",
       "      <td>41.92</td>\n",
       "      <td>21.37</td>\n",
       "      <td>9.32</td>\n",
       "      <td>0.0</td>\n",
       "      <td>0.0</td>\n",
       "      <td>39.45</td>\n",
       "    </tr>\n",
       "    <tr>\n",
       "      <th>107</th>\n",
       "      <td>Tuolumne</td>\n",
       "      <td>2010</td>\n",
       "      <td>365</td>\n",
       "      <td>274</td>\n",
       "      <td>83</td>\n",
       "      <td>8</td>\n",
       "      <td>0</td>\n",
       "      <td>0</td>\n",
       "      <td>0</td>\n",
       "      <td>147</td>\n",
       "      <td>...</td>\n",
       "      <td>0</td>\n",
       "      <td>0</td>\n",
       "      <td>0</td>\n",
       "      <td>75.07</td>\n",
       "      <td>22.74</td>\n",
       "      <td>2.19</td>\n",
       "      <td>0.00</td>\n",
       "      <td>0.0</td>\n",
       "      <td>0.0</td>\n",
       "      <td>0.00</td>\n",
       "    </tr>\n",
       "    <tr>\n",
       "      <th>108</th>\n",
       "      <td>Ventura</td>\n",
       "      <td>2010</td>\n",
       "      <td>365</td>\n",
       "      <td>222</td>\n",
       "      <td>125</td>\n",
       "      <td>14</td>\n",
       "      <td>4</td>\n",
       "      <td>0</td>\n",
       "      <td>0</td>\n",
       "      <td>161</td>\n",
       "      <td>...</td>\n",
       "      <td>0</td>\n",
       "      <td>32</td>\n",
       "      <td>0</td>\n",
       "      <td>60.82</td>\n",
       "      <td>34.25</td>\n",
       "      <td>3.84</td>\n",
       "      <td>1.10</td>\n",
       "      <td>0.0</td>\n",
       "      <td>0.0</td>\n",
       "      <td>8.77</td>\n",
       "    </tr>\n",
       "    <tr>\n",
       "      <th>109</th>\n",
       "      <td>Yolo</td>\n",
       "      <td>2010</td>\n",
       "      <td>362</td>\n",
       "      <td>301</td>\n",
       "      <td>58</td>\n",
       "      <td>3</td>\n",
       "      <td>0</td>\n",
       "      <td>0</td>\n",
       "      <td>0</td>\n",
       "      <td>109</td>\n",
       "      <td>...</td>\n",
       "      <td>0</td>\n",
       "      <td>74</td>\n",
       "      <td>4</td>\n",
       "      <td>83.15</td>\n",
       "      <td>16.02</td>\n",
       "      <td>0.83</td>\n",
       "      <td>0.00</td>\n",
       "      <td>0.0</td>\n",
       "      <td>0.0</td>\n",
       "      <td>20.44</td>\n",
       "    </tr>\n",
       "  </tbody>\n",
       "</table>\n",
       "<p>5 rows × 25 columns</p>\n",
       "</div>"
      ],
      "text/plain": [
       "       County  Year  Days_with_AQI  Good_Days  Moderate_Days  \\\n",
       "105   Trinity  2010            122        122              0   \n",
       "106    Tulare  2010            365        100            153   \n",
       "107  Tuolumne  2010            365        274             83   \n",
       "108   Ventura  2010            365        222            125   \n",
       "109      Yolo  2010            362        301             58   \n",
       "\n",
       "     Unhealthy_for_Sensitive_Groups_Days  Unhealthy_Days  Very_Unhealthy_Days  \\\n",
       "105                                    0               0                    0   \n",
       "106                                   78              34                    0   \n",
       "107                                    8               0                    0   \n",
       "108                                   14               4                    0   \n",
       "109                                    3               0                    0   \n",
       "\n",
       "     Hazardous_Days  Max_AQI  ...  Days_SO2  Days_PM2.5  Days_PM10  \\\n",
       "105               0       35  ...         0          84         38   \n",
       "106               0      197  ...         0         144          1   \n",
       "107               0      147  ...         0           0          0   \n",
       "108               0      161  ...         0          32          0   \n",
       "109               0      109  ...         0          74          4   \n",
       "\n",
       "     % Good_Days  % Moderate_Days  % Unhealthy_for_Sensitive_Groups_Days  \\\n",
       "105       100.00             0.00                                   0.00   \n",
       "106        27.40            41.92                                  21.37   \n",
       "107        75.07            22.74                                   2.19   \n",
       "108        60.82            34.25                                   3.84   \n",
       "109        83.15            16.02                                   0.83   \n",
       "\n",
       "     % Unhealthy_Days  % Very_Unhealthy_Days  % Hazardous_Days  % PM2.5_Days  \n",
       "105              0.00                    0.0               0.0         68.85  \n",
       "106              9.32                    0.0               0.0         39.45  \n",
       "107              0.00                    0.0               0.0          0.00  \n",
       "108              1.10                    0.0               0.0          8.77  \n",
       "109              0.00                    0.0               0.0         20.44  \n",
       "\n",
       "[5 rows x 25 columns]"
      ]
     },
     "execution_count": 4,
     "metadata": {},
     "output_type": "execute_result"
    }
   ],
   "source": [
    "#write a loop that will call all the aqi csv and then concat all our aqi data frame\n",
    "aqi_df=pd.concat([pd.read_csv(file,delimiter=',', encoding='UTF-8') for file in aqi_all])\n",
    "\n",
    "#only keep the state of California\n",
    "aqi_df= aqi_df.loc[aqi_df.State == 'California']\n",
    "aqi_df.drop(['State'], axis=1, inplace=True)\n",
    "\n",
    "# replace spaces with underscore in all column names in dataframe to make it easier to use later\n",
    "aqi_df.columns = aqi_df.columns.str.replace(' ', '_')\n",
    "#create new columns that calculate the percentage of days\n",
    "pd.options.mode.chained_assignment = None  # default='warn'\n",
    "#Adding new columns for % and using the rounding function to limit to 2 decimal places\n",
    "aqi_df['% Good_Days'] = round((aqi_df['Good_Days']/aqi_df['Days_with_AQI'])*100,2)\n",
    "aqi_df['% Moderate_Days'] = round((aqi_df['Moderate_Days']/aqi_df['Days_with_AQI'])*100,2)\n",
    "aqi_df['% Unhealthy_for_Sensitive_Groups_Days'] = round((aqi_df['Unhealthy_for_Sensitive_Groups_Days']/aqi_df['Days_with_AQI'])*100,2)\n",
    "aqi_df['% Unhealthy_Days'] = round((aqi_df['Unhealthy_Days']/aqi_df['Days_with_AQI'])*100,2)\n",
    "aqi_df['% Very_Unhealthy_Days'] = round((aqi_df['Very_Unhealthy_Days']/aqi_df['Days_with_AQI'])*100,2)\n",
    "aqi_df['% Hazardous_Days'] = round((aqi_df['Hazardous_Days']/aqi_df['Days_with_AQI'])*100,2)\n",
    "aqi_df['% PM2.5_Days'] = round ((aqi_df['Days_PM2.5']/aqi_df['Days_with_AQI'])*100,2)\n",
    "\n",
    "#Just going to check the tail on this\n",
    "aqi_df.tail()"
   ]
  },
  {
   "cell_type": "code",
   "execution_count": 5,
   "metadata": {},
   "outputs": [
    {
     "data": {
      "text/plain": [
       "7"
      ]
     },
     "execution_count": 5,
     "metadata": {},
     "output_type": "execute_result"
    }
   ],
   "source": [
    "#What are min days with AQI\n",
    "aqi_df['Days_with_AQI'].min()"
   ]
  },
  {
   "cell_type": "code",
   "execution_count": 6,
   "metadata": {},
   "outputs": [
    {
     "data": {
      "text/plain": [
       "366"
      ]
     },
     "execution_count": 6,
     "metadata": {},
     "output_type": "execute_result"
    }
   ],
   "source": [
    "#What are max days with AQI\n",
    "aqi_df['Days_with_AQI'].max()"
   ]
  },
  {
   "cell_type": "code",
   "execution_count": 7,
   "metadata": {},
   "outputs": [
    {
     "data": {
      "text/html": [
       "<div>\n",
       "<style scoped>\n",
       "    .dataframe tbody tr th:only-of-type {\n",
       "        vertical-align: middle;\n",
       "    }\n",
       "\n",
       "    .dataframe tbody tr th {\n",
       "        vertical-align: top;\n",
       "    }\n",
       "\n",
       "    .dataframe thead th {\n",
       "        text-align: right;\n",
       "    }\n",
       "</style>\n",
       "<table border=\"1\" class=\"dataframe\">\n",
       "  <thead>\n",
       "    <tr style=\"text-align: right;\">\n",
       "      <th></th>\n",
       "      <th>Year</th>\n",
       "      <th>Days_with_AQI</th>\n",
       "      <th>Good_Days</th>\n",
       "      <th>Moderate_Days</th>\n",
       "      <th>Unhealthy_for_Sensitive_Groups_Days</th>\n",
       "      <th>Unhealthy_Days</th>\n",
       "      <th>Very_Unhealthy_Days</th>\n",
       "      <th>Hazardous_Days</th>\n",
       "      <th>Max_AQI</th>\n",
       "      <th>90th_Percentile_AQI</th>\n",
       "      <th>...</th>\n",
       "      <th>Days_SO2</th>\n",
       "      <th>Days_PM2.5</th>\n",
       "      <th>Days_PM10</th>\n",
       "      <th>% Good_Days</th>\n",
       "      <th>% Moderate_Days</th>\n",
       "      <th>% Unhealthy_for_Sensitive_Groups_Days</th>\n",
       "      <th>% Unhealthy_Days</th>\n",
       "      <th>% Very_Unhealthy_Days</th>\n",
       "      <th>% Hazardous_Days</th>\n",
       "      <th>% PM2.5_Days</th>\n",
       "    </tr>\n",
       "  </thead>\n",
       "  <tbody>\n",
       "    <tr>\n",
       "      <th>count</th>\n",
       "      <td>589.000000</td>\n",
       "      <td>589.000000</td>\n",
       "      <td>589.000000</td>\n",
       "      <td>589.000000</td>\n",
       "      <td>589.000000</td>\n",
       "      <td>589.000000</td>\n",
       "      <td>589.000000</td>\n",
       "      <td>589.000000</td>\n",
       "      <td>589.000000</td>\n",
       "      <td>589.000000</td>\n",
       "      <td>...</td>\n",
       "      <td>589.000000</td>\n",
       "      <td>589.000000</td>\n",
       "      <td>589.000000</td>\n",
       "      <td>589.000000</td>\n",
       "      <td>589.000000</td>\n",
       "      <td>589.000000</td>\n",
       "      <td>589.000000</td>\n",
       "      <td>589.000000</td>\n",
       "      <td>589.000000</td>\n",
       "      <td>589.000000</td>\n",
       "    </tr>\n",
       "    <tr>\n",
       "      <th>mean</th>\n",
       "      <td>2011.025467</td>\n",
       "      <td>347.694397</td>\n",
       "      <td>201.899830</td>\n",
       "      <td>112.582343</td>\n",
       "      <td>25.049236</td>\n",
       "      <td>7.196944</td>\n",
       "      <td>0.633277</td>\n",
       "      <td>0.332767</td>\n",
       "      <td>312.964346</td>\n",
       "      <td>88.142615</td>\n",
       "      <td>...</td>\n",
       "      <td>0.246180</td>\n",
       "      <td>104.998302</td>\n",
       "      <td>13.682513</td>\n",
       "      <td>59.081104</td>\n",
       "      <td>31.582224</td>\n",
       "      <td>7.022988</td>\n",
       "      <td>2.035569</td>\n",
       "      <td>0.183158</td>\n",
       "      <td>0.094754</td>\n",
       "      <td>32.614669</td>\n",
       "    </tr>\n",
       "    <tr>\n",
       "      <th>std</th>\n",
       "      <td>3.163519</td>\n",
       "      <td>62.621569</td>\n",
       "      <td>92.637828</td>\n",
       "      <td>63.770652</td>\n",
       "      <td>29.390509</td>\n",
       "      <td>14.194420</td>\n",
       "      <td>2.257560</td>\n",
       "      <td>1.830755</td>\n",
       "      <td>1085.186832</td>\n",
       "      <td>34.343206</td>\n",
       "      <td>...</td>\n",
       "      <td>2.919936</td>\n",
       "      <td>73.937106</td>\n",
       "      <td>46.218566</td>\n",
       "      <td>25.375104</td>\n",
       "      <td>16.963378</td>\n",
       "      <td>8.159040</td>\n",
       "      <td>3.943801</td>\n",
       "      <td>0.666529</td>\n",
       "      <td>0.520609</td>\n",
       "      <td>24.856599</td>\n",
       "    </tr>\n",
       "    <tr>\n",
       "      <th>min</th>\n",
       "      <td>2006.000000</td>\n",
       "      <td>7.000000</td>\n",
       "      <td>1.000000</td>\n",
       "      <td>0.000000</td>\n",
       "      <td>0.000000</td>\n",
       "      <td>0.000000</td>\n",
       "      <td>0.000000</td>\n",
       "      <td>0.000000</td>\n",
       "      <td>35.000000</td>\n",
       "      <td>21.000000</td>\n",
       "      <td>...</td>\n",
       "      <td>0.000000</td>\n",
       "      <td>0.000000</td>\n",
       "      <td>0.000000</td>\n",
       "      <td>3.230000</td>\n",
       "      <td>0.000000</td>\n",
       "      <td>0.000000</td>\n",
       "      <td>0.000000</td>\n",
       "      <td>0.000000</td>\n",
       "      <td>0.000000</td>\n",
       "      <td>0.000000</td>\n",
       "    </tr>\n",
       "    <tr>\n",
       "      <th>25%</th>\n",
       "      <td>2008.000000</td>\n",
       "      <td>365.000000</td>\n",
       "      <td>127.000000</td>\n",
       "      <td>66.000000</td>\n",
       "      <td>2.000000</td>\n",
       "      <td>0.000000</td>\n",
       "      <td>0.000000</td>\n",
       "      <td>0.000000</td>\n",
       "      <td>120.000000</td>\n",
       "      <td>63.000000</td>\n",
       "      <td>...</td>\n",
       "      <td>0.000000</td>\n",
       "      <td>32.000000</td>\n",
       "      <td>0.000000</td>\n",
       "      <td>42.740000</td>\n",
       "      <td>19.450000</td>\n",
       "      <td>0.550000</td>\n",
       "      <td>0.000000</td>\n",
       "      <td>0.000000</td>\n",
       "      <td>0.000000</td>\n",
       "      <td>9.320000</td>\n",
       "    </tr>\n",
       "    <tr>\n",
       "      <th>50%</th>\n",
       "      <td>2011.000000</td>\n",
       "      <td>365.000000</td>\n",
       "      <td>215.000000</td>\n",
       "      <td>113.000000</td>\n",
       "      <td>13.000000</td>\n",
       "      <td>1.000000</td>\n",
       "      <td>0.000000</td>\n",
       "      <td>0.000000</td>\n",
       "      <td>155.000000</td>\n",
       "      <td>84.000000</td>\n",
       "      <td>...</td>\n",
       "      <td>0.000000</td>\n",
       "      <td>115.000000</td>\n",
       "      <td>1.000000</td>\n",
       "      <td>62.990000</td>\n",
       "      <td>31.780000</td>\n",
       "      <td>3.560000</td>\n",
       "      <td>0.270000</td>\n",
       "      <td>0.000000</td>\n",
       "      <td>0.000000</td>\n",
       "      <td>33.610000</td>\n",
       "    </tr>\n",
       "    <tr>\n",
       "      <th>75%</th>\n",
       "      <td>2014.000000</td>\n",
       "      <td>365.000000</td>\n",
       "      <td>272.000000</td>\n",
       "      <td>162.000000</td>\n",
       "      <td>37.000000</td>\n",
       "      <td>6.000000</td>\n",
       "      <td>0.000000</td>\n",
       "      <td>0.000000</td>\n",
       "      <td>190.000000</td>\n",
       "      <td>105.000000</td>\n",
       "      <td>...</td>\n",
       "      <td>0.000000</td>\n",
       "      <td>155.000000</td>\n",
       "      <td>6.000000</td>\n",
       "      <td>78.240000</td>\n",
       "      <td>44.260000</td>\n",
       "      <td>10.410000</td>\n",
       "      <td>1.690000</td>\n",
       "      <td>0.000000</td>\n",
       "      <td>0.000000</td>\n",
       "      <td>45.480000</td>\n",
       "    </tr>\n",
       "    <tr>\n",
       "      <th>max</th>\n",
       "      <td>2016.000000</td>\n",
       "      <td>366.000000</td>\n",
       "      <td>359.000000</td>\n",
       "      <td>275.000000</td>\n",
       "      <td>122.000000</td>\n",
       "      <td>74.000000</td>\n",
       "      <td>25.000000</td>\n",
       "      <td>24.000000</td>\n",
       "      <td>14043.000000</td>\n",
       "      <td>190.000000</td>\n",
       "      <td>...</td>\n",
       "      <td>64.000000</td>\n",
       "      <td>355.000000</td>\n",
       "      <td>354.000000</td>\n",
       "      <td>100.000000</td>\n",
       "      <td>75.550000</td>\n",
       "      <td>41.940000</td>\n",
       "      <td>20.220000</td>\n",
       "      <td>6.830000</td>\n",
       "      <td>6.560000</td>\n",
       "      <td>100.000000</td>\n",
       "    </tr>\n",
       "  </tbody>\n",
       "</table>\n",
       "<p>8 rows × 24 columns</p>\n",
       "</div>"
      ],
      "text/plain": [
       "              Year  Days_with_AQI   Good_Days  Moderate_Days  \\\n",
       "count   589.000000     589.000000  589.000000     589.000000   \n",
       "mean   2011.025467     347.694397  201.899830     112.582343   \n",
       "std       3.163519      62.621569   92.637828      63.770652   \n",
       "min    2006.000000       7.000000    1.000000       0.000000   \n",
       "25%    2008.000000     365.000000  127.000000      66.000000   \n",
       "50%    2011.000000     365.000000  215.000000     113.000000   \n",
       "75%    2014.000000     365.000000  272.000000     162.000000   \n",
       "max    2016.000000     366.000000  359.000000     275.000000   \n",
       "\n",
       "       Unhealthy_for_Sensitive_Groups_Days  Unhealthy_Days  \\\n",
       "count                           589.000000      589.000000   \n",
       "mean                             25.049236        7.196944   \n",
       "std                              29.390509       14.194420   \n",
       "min                               0.000000        0.000000   \n",
       "25%                               2.000000        0.000000   \n",
       "50%                              13.000000        1.000000   \n",
       "75%                              37.000000        6.000000   \n",
       "max                             122.000000       74.000000   \n",
       "\n",
       "       Very_Unhealthy_Days  Hazardous_Days       Max_AQI  90th_Percentile_AQI  \\\n",
       "count           589.000000      589.000000    589.000000           589.000000   \n",
       "mean              0.633277        0.332767    312.964346            88.142615   \n",
       "std               2.257560        1.830755   1085.186832            34.343206   \n",
       "min               0.000000        0.000000     35.000000            21.000000   \n",
       "25%               0.000000        0.000000    120.000000            63.000000   \n",
       "50%               0.000000        0.000000    155.000000            84.000000   \n",
       "75%               0.000000        0.000000    190.000000           105.000000   \n",
       "max              25.000000       24.000000  14043.000000           190.000000   \n",
       "\n",
       "       ...    Days_SO2  Days_PM2.5   Days_PM10  % Good_Days  % Moderate_Days  \\\n",
       "count  ...  589.000000  589.000000  589.000000   589.000000       589.000000   \n",
       "mean   ...    0.246180  104.998302   13.682513    59.081104        31.582224   \n",
       "std    ...    2.919936   73.937106   46.218566    25.375104        16.963378   \n",
       "min    ...    0.000000    0.000000    0.000000     3.230000         0.000000   \n",
       "25%    ...    0.000000   32.000000    0.000000    42.740000        19.450000   \n",
       "50%    ...    0.000000  115.000000    1.000000    62.990000        31.780000   \n",
       "75%    ...    0.000000  155.000000    6.000000    78.240000        44.260000   \n",
       "max    ...   64.000000  355.000000  354.000000   100.000000        75.550000   \n",
       "\n",
       "       % Unhealthy_for_Sensitive_Groups_Days  % Unhealthy_Days  \\\n",
       "count                             589.000000        589.000000   \n",
       "mean                                7.022988          2.035569   \n",
       "std                                 8.159040          3.943801   \n",
       "min                                 0.000000          0.000000   \n",
       "25%                                 0.550000          0.000000   \n",
       "50%                                 3.560000          0.270000   \n",
       "75%                                10.410000          1.690000   \n",
       "max                                41.940000         20.220000   \n",
       "\n",
       "       % Very_Unhealthy_Days  % Hazardous_Days  % PM2.5_Days  \n",
       "count             589.000000        589.000000    589.000000  \n",
       "mean                0.183158          0.094754     32.614669  \n",
       "std                 0.666529          0.520609     24.856599  \n",
       "min                 0.000000          0.000000      0.000000  \n",
       "25%                 0.000000          0.000000      9.320000  \n",
       "50%                 0.000000          0.000000     33.610000  \n",
       "75%                 0.000000          0.000000     45.480000  \n",
       "max                 6.830000          6.560000    100.000000  \n",
       "\n",
       "[8 rows x 24 columns]"
      ]
     },
     "execution_count": 7,
     "metadata": {},
     "output_type": "execute_result"
    }
   ],
   "source": [
    "#Let's describe the data frames\n",
    "aqi_df.describe()"
   ]
  },
  {
   "cell_type": "markdown",
   "metadata": {},
   "source": [
    "* Describe is telling us that average days with aqi is 348 out of 365.  Some counties collect only 7 days(min value) while others collect 366 days (max value).\n",
    "* The average good days is 202, while the min and max is 1 and 275, respectively.\n",
    "* We can see that Hazardous days, unhealthy days, and unhealthy for senseititve groups have low mean values.\n"
   ]
  },
  {
   "cell_type": "markdown",
   "metadata": {},
   "source": [
    "### We want to check our AQI dataframe to know how many counties are included in the dataset and to ensure we have captured the required years (2006 - 2016)."
   ]
  },
  {
   "cell_type": "code",
   "execution_count": 8,
   "metadata": {},
   "outputs": [
    {
     "name": "stdout",
     "output_type": "stream",
     "text": [
      "In the AQI dataFrame, there are 54 counties.\n"
     ]
    }
   ],
   "source": [
    "#How many counties are in the AQI dataframe.\n",
    "count=aqi_df['County'].nunique()\n",
    "print(\"In the AQI dataFrame, there are\", count, \"counties.\")"
   ]
  },
  {
   "cell_type": "code",
   "execution_count": 9,
   "metadata": {},
   "outputs": [
    {
     "data": {
      "text/plain": [
       "array([2009, 2008, 2014, 2015, 2016, 2006, 2012, 2013, 2007, 2011, 2010])"
      ]
     },
     "execution_count": 9,
     "metadata": {},
     "output_type": "execute_result"
    }
   ],
   "source": [
    "#see the years in AQI DataFrame\n",
    "aqi_df[\"Year\"].unique()"
   ]
  },
  {
   "cell_type": "markdown",
   "metadata": {},
   "source": [
    "### Calling in the fips dataset\n",
    "We need to import fips data, which contains fips codes of counties in California, because our cancer dataset has county codes while our AQI, hspa, and smoking have county names. After importing the fips codes, we can merge it to the cancer dataset to get the county names in the cancer dataset."
   ]
  },
  {
   "cell_type": "code",
   "execution_count": 10,
   "metadata": {},
   "outputs": [],
   "source": [
    "#call the fips dataset\n",
    "fips_df=pd.read_csv('./ca_fips_codes.csv')\n",
    "\n",
    "# replace spaces with underscore in all column names in dataframe to make it easier to use later\n",
    "fips_df.columns = fips_df.columns.str.replace(' ', '_')"
   ]
  },
  {
   "cell_type": "markdown",
   "metadata": {},
   "source": [
    "### Calling in the HSPA dataset\n",
    "Every county in this dataset is a Medically Underserved Area (MUA). We are going to generate a Medically Underserved Area (MUA) indicator variable with a value of 1. We are using this variable as an proxy for socioeconomic status. So a value of 1 indicates that a county is a Medically Underserved Area. Later on, we'll merge it to the cancer and AQI dataset and the counties that are not MUA will recieve a value of 0."
   ]
  },
  {
   "cell_type": "code",
   "execution_count": 11,
   "metadata": {},
   "outputs": [
    {
     "data": {
      "text/html": [
       "<div>\n",
       "<style scoped>\n",
       "    .dataframe tbody tr th:only-of-type {\n",
       "        vertical-align: middle;\n",
       "    }\n",
       "\n",
       "    .dataframe tbody tr th {\n",
       "        vertical-align: top;\n",
       "    }\n",
       "\n",
       "    .dataframe thead th {\n",
       "        text-align: right;\n",
       "    }\n",
       "</style>\n",
       "<table border=\"1\" class=\"dataframe\">\n",
       "  <thead>\n",
       "    <tr style=\"text-align: right;\">\n",
       "      <th></th>\n",
       "      <th>County</th>\n",
       "      <th>MUA_indicator</th>\n",
       "    </tr>\n",
       "  </thead>\n",
       "  <tbody>\n",
       "    <tr>\n",
       "      <th>0</th>\n",
       "      <td>Alameda</td>\n",
       "      <td>1</td>\n",
       "    </tr>\n",
       "    <tr>\n",
       "      <th>1</th>\n",
       "      <td>Amador</td>\n",
       "      <td>1</td>\n",
       "    </tr>\n",
       "    <tr>\n",
       "      <th>2</th>\n",
       "      <td>Butte</td>\n",
       "      <td>1</td>\n",
       "    </tr>\n",
       "    <tr>\n",
       "      <th>3</th>\n",
       "      <td>Contra Costa</td>\n",
       "      <td>1</td>\n",
       "    </tr>\n",
       "    <tr>\n",
       "      <th>4</th>\n",
       "      <td>Del Norte</td>\n",
       "      <td>1</td>\n",
       "    </tr>\n",
       "  </tbody>\n",
       "</table>\n",
       "</div>"
      ],
      "text/plain": [
       "         County  MUA_indicator\n",
       "0       Alameda              1\n",
       "1        Amador              1\n",
       "2         Butte              1\n",
       "3  Contra Costa              1\n",
       "4     Del Norte              1"
      ]
     },
     "execution_count": 11,
     "metadata": {},
     "output_type": "execute_result"
    }
   ],
   "source": [
    "#call the fips dataset\n",
    "hspa_df=pd.read_csv('./HSPA/HSPA.csv')\n",
    "\n",
    "#only keep columns we need\n",
    "hspa_df.drop(['Designated Area Name','Rural Status'], axis=1, inplace=True)\n",
    "\n",
    "\n",
    "hspa_df['MUA_indicator']=1\n",
    "\n",
    "hspa_df=hspa_df[[\"County\",\"MUA_indicator\"]]\n",
    "hspa_df.head()"
   ]
  },
  {
   "cell_type": "code",
   "execution_count": 12,
   "metadata": {},
   "outputs": [
    {
     "name": "stdout",
     "output_type": "stream",
     "text": [
      "48 counties are Medically underserved areas.\n"
     ]
    }
   ],
   "source": [
    "x= hspa_df[\"County\"].nunique()\n",
    "print(str(x) + \" counties are Medically underserved areas.\")"
   ]
  },
  {
   "cell_type": "markdown",
   "metadata": {},
   "source": [
    "#### Calling in the cancer dataset\n",
    "\n",
    "Our cancer dataset is individual level data. Thus, each row is a lung and bronchus cancer patient.(It's important to note that In this report, we'll be referring to lung and bronchus cancer simply as lung cancer.) Every patient has demographic information, such as sex, race, and age range.We'll clean up this dataset by renaming variables, creating columns we need, and dropping columns we don't need. We'll drop the unkown catagory in the race variable."
   ]
  },
  {
   "cell_type": "code",
   "execution_count": 13,
   "metadata": {},
   "outputs": [
    {
     "data": {
      "text/html": [
       "<div>\n",
       "<style scoped>\n",
       "    .dataframe tbody tr th:only-of-type {\n",
       "        vertical-align: middle;\n",
       "    }\n",
       "\n",
       "    .dataframe tbody tr th {\n",
       "        vertical-align: top;\n",
       "    }\n",
       "\n",
       "    .dataframe thead th {\n",
       "        text-align: right;\n",
       "    }\n",
       "</style>\n",
       "<table border=\"1\" class=\"dataframe\">\n",
       "  <thead>\n",
       "    <tr style=\"text-align: right;\">\n",
       "      <th></th>\n",
       "      <th>Year</th>\n",
       "      <th>County</th>\n",
       "      <th>age_range</th>\n",
       "      <th>Race</th>\n",
       "      <th>Sex</th>\n",
       "      <th>patient</th>\n",
       "    </tr>\n",
       "  </thead>\n",
       "  <tbody>\n",
       "    <tr>\n",
       "      <th>0</th>\n",
       "      <td>2016</td>\n",
       "      <td>Los Angeles</td>\n",
       "      <td>11</td>\n",
       "      <td>1</td>\n",
       "      <td>2</td>\n",
       "      <td>1</td>\n",
       "    </tr>\n",
       "    <tr>\n",
       "      <th>1</th>\n",
       "      <td>2016</td>\n",
       "      <td>Los Angeles</td>\n",
       "      <td>10</td>\n",
       "      <td>1</td>\n",
       "      <td>1</td>\n",
       "      <td>1</td>\n",
       "    </tr>\n",
       "    <tr>\n",
       "      <th>2</th>\n",
       "      <td>2011</td>\n",
       "      <td>Los Angeles</td>\n",
       "      <td>17</td>\n",
       "      <td>1</td>\n",
       "      <td>1</td>\n",
       "      <td>1</td>\n",
       "    </tr>\n",
       "    <tr>\n",
       "      <th>3</th>\n",
       "      <td>2015</td>\n",
       "      <td>Los Angeles</td>\n",
       "      <td>18</td>\n",
       "      <td>1</td>\n",
       "      <td>1</td>\n",
       "      <td>1</td>\n",
       "    </tr>\n",
       "    <tr>\n",
       "      <th>4</th>\n",
       "      <td>2014</td>\n",
       "      <td>Los Angeles</td>\n",
       "      <td>18</td>\n",
       "      <td>1</td>\n",
       "      <td>1</td>\n",
       "      <td>1</td>\n",
       "    </tr>\n",
       "  </tbody>\n",
       "</table>\n",
       "</div>"
      ],
      "text/plain": [
       "   Year       County  age_range  Race  Sex  patient\n",
       "0  2016  Los Angeles         11     1    2        1\n",
       "1  2016  Los Angeles         10     1    1        1\n",
       "2  2011  Los Angeles         17     1    1        1\n",
       "3  2015  Los Angeles         18     1    1        1\n",
       "4  2014  Los Angeles         18     1    1        1"
      ]
     },
     "execution_count": 13,
     "metadata": {},
     "output_type": "execute_result"
    }
   ],
   "source": [
    "#write a loop that will call all the SEER csv and then concat them\n",
    "cancer_df= pd.concat([pd.read_csv(file,delimiter=',', encoding='UTF-8') for file in cancer_all]).reset_index()\n",
    "\n",
    "#The year variable is not correctly formatted so we fix that here\n",
    "cancer_df['Year of diagnosis']= cancer_df['Year of diagnosis']-200 +2000\n",
    "\n",
    "\n",
    "# replace spaces with underscore in all column names in dataframe to make it easier to use later\n",
    "cancer_df.columns = cancer_df.columns.str.replace(' ', '_')\n",
    "\n",
    "#rename column\n",
    "A={\"Age_recode_with_<1_year_olds\":\"age_range\",\n",
    "   \"Year_of_diagnosis\":\"Year\",\n",
    "   \"Race_recode_(White,_Black,_Other)\":\"Race\",\n",
    "   \"County\":\"County_Code\"}\n",
    "cancer_df.rename(columns=A, inplace=True)\n",
    "\n",
    "#drop the columns we don't need\n",
    "cancer_df.drop(['index',\"Histologic_Type_ICD-O-3\"], axis=1, inplace=True)\n",
    "\n",
    "#We also drop race=9 since that value represents unknown (which we aren't intrested in)\n",
    "cancer_df=cancer_df[cancer_df.Race !=9]\n",
    "\n",
    "\n",
    "#add a count variable. Every row is a patient so every row has a count of one.This variable is useful for making plots later on\n",
    "cancer_df[\"patient\"]=1\n",
    "\n",
    "#merge the cancer data with a dataset with fips code dataset to get county name\n",
    "cancer_df= pd.merge(cancer_df, fips_df, on=\"County_Code\" , how=\"outer\")\n",
    "cancer_df=cancer_df[[\"Year\",\"County\",\"age_range\",\"Race\",\"Sex\",\"patient\"]]\n",
    "cancer_df.head()"
   ]
  },
  {
   "cell_type": "code",
   "execution_count": null,
   "metadata": {},
   "outputs": [],
   "source": []
  },
  {
   "cell_type": "markdown",
   "metadata": {},
   "source": [
    "### We want to check our cancer dataframe to know how many counties are included in our dataset and to ensure we have captured the required years (2006 - 2016)."
   ]
  },
  {
   "cell_type": "code",
   "execution_count": 14,
   "metadata": {},
   "outputs": [
    {
     "name": "stdout",
     "output_type": "stream",
     "text": [
      "In the cancer dataFrame, there are 58 counties.\n"
     ]
    }
   ],
   "source": [
    "#How many counties are in the AQI dataframe.\n",
    "count=cancer_df['County'].nunique()\n",
    "print(\"In the cancer dataFrame, there are\", count, \"counties.\")"
   ]
  },
  {
   "cell_type": "markdown",
   "metadata": {},
   "source": [
    "#### We see that there are 58 counties in the cancer dataset while only 54 in the AQI dataframe. We will remove the the 4 counties that are not in the AQI dataset."
   ]
  },
  {
   "cell_type": "code",
   "execution_count": 15,
   "metadata": {},
   "outputs": [
    {
     "name": "stdout",
     "output_type": "stream",
     "text": [
      "These are the missing counties from the cancer_df: [['Yuba', 'Lassen', 'Modoc', 'Sierra']]\n"
     ]
    }
   ],
   "source": [
    "#create lists for counties in aqi and cancer df and we can find which one is missing\n",
    "cancer_list=list(set(cancer_df.County))\n",
    "aqi_list=list(set(aqi_df.County))\n",
    "\n",
    "missing_counties=[\n",
    "    list(set(cancer_list).difference(aqi_list))\n",
    "]\n",
    "\n",
    "print(\"These are the missing counties from the cancer_df:\", missing_counties)"
   ]
  },
  {
   "cell_type": "code",
   "execution_count": 16,
   "metadata": {},
   "outputs": [
    {
     "data": {
      "text/plain": [
       "54"
      ]
     },
     "execution_count": 16,
     "metadata": {},
     "output_type": "execute_result"
    }
   ],
   "source": [
    "#drop the missing counties in cancer df\n",
    "missing=['Sierra', 'Yuba', 'Lassen', 'Modoc']\n",
    "cancer_df=cancer_df[~cancer_df.County.isin(missing)]\n",
    "cancer_df[\"County\"].nunique()"
   ]
  },
  {
   "cell_type": "markdown",
   "metadata": {},
   "source": [
    "Now we have 54 counties in both the AQI and cancer dataFrame."
   ]
  },
  {
   "cell_type": "code",
   "execution_count": 17,
   "metadata": {},
   "outputs": [
    {
     "data": {
      "text/plain": [
       "array([2016, 2011, 2015, 2014, 2009, 2012, 2006, 2008, 2010, 2007, 2013])"
      ]
     },
     "execution_count": 17,
     "metadata": {},
     "output_type": "execute_result"
    }
   ],
   "source": [
    "#see the years in cancer DataFrame\n",
    "cancer_df[\"Year\"].unique()"
   ]
  },
  {
   "cell_type": "markdown",
   "metadata": {},
   "source": [
    "## Looking at the Distribution of the cancer patients\n",
    "We want to understand the distribution of lung cancer patients in the cancer dataset. Thus, we are going to utalize the value counts function and seaborn plots to see the distribution of cancer patients, by sex, race and age group."
   ]
  },
  {
   "cell_type": "code",
   "execution_count": 18,
   "metadata": {},
   "outputs": [
    {
     "name": "stdout",
     "output_type": "stream",
     "text": [
      "The number of lung cancer patients in the cancer dataset is: \n",
      "1    157188\n",
      "Name: patient, dtype: int64\n"
     ]
    }
   ],
   "source": [
    "#overall number of patients\n",
    "x= cancer_df[\"patient\"].value_counts()\n",
    "print(\"The number of lung cancer patients in the cancer dataset is: \\n\" + str(x))"
   ]
  },
  {
   "cell_type": "code",
   "execution_count": 19,
   "metadata": {},
   "outputs": [
    {
     "name": "stdout",
     "output_type": "stream",
     "text": [
      "The number of men and women lung cancer patients, respectively, in the cancer dataset is:\n",
      "1    79659\n",
      "2    77529\n",
      "Name: Sex, dtype: int64\n"
     ]
    }
   ],
   "source": [
    "#number of patients by sex\n",
    "x= cancer_df[\"Sex\"].value_counts()\n",
    "print(\"The number of men and women lung cancer patients, respectively, in the cancer dataset is:\\n\" + str(x))"
   ]
  },
  {
   "cell_type": "code",
   "execution_count": 20,
   "metadata": {},
   "outputs": [
    {
     "name": "stdout",
     "output_type": "stream",
     "text": [
      "50.69% of the patients are men and 49.31% of patients are women.\n"
     ]
    }
   ],
   "source": [
    "men=round(80099/(80099+77908)*100,2)\n",
    "women=round(77908/(80099+77908)*100,2)\n",
    "print(str(men) + \"% of the patients are men and \"+ str(women)+ \"% of patients are women.\")"
   ]
  },
  {
   "cell_type": "code",
   "execution_count": 21,
   "metadata": {},
   "outputs": [
    {
     "name": "stdout",
     "output_type": "stream",
     "text": [
      "The number of White, Black, and Others lung cancer patients, respectively, in the cancer dataset is:\n",
      "1    129963\n",
      "3     18326\n",
      "2      8899\n",
      "Name: Race, dtype: int64\n"
     ]
    }
   ],
   "source": [
    "#number of patients by Race\n",
    "x= cancer_df[\"Race\"].value_counts()\n",
    "print(\"The number of White, Black, and Others lung cancer patients, respectively, in the cancer dataset is:\\n\" + str(x))"
   ]
  },
  {
   "cell_type": "code",
   "execution_count": 22,
   "metadata": {},
   "outputs": [
    {
     "name": "stdout",
     "output_type": "stream",
     "text": [
      "82.73% of patients are white, 5.64% of patients are black, and 11.63% of patients are other.\n"
     ]
    }
   ],
   "source": [
    "white=round(130718/(130718+18372+8917)*100,2)\n",
    "black=round(8917/(130718+18372+8917)*100,2)\n",
    "others=round(18372/(130718+18372+8917)*100,2)\n",
    "print(str(white) + \"% of patients are white, \"+ str(black)+ \"% of patients are black, and \" +str(others)+ \"% of patients are other.\")"
   ]
  },
  {
   "cell_type": "code",
   "execution_count": 23,
   "metadata": {},
   "outputs": [
    {
     "name": "stdout",
     "output_type": "stream",
     "text": [
      "This is the number of patients by age group:\n",
      "15    26009\n",
      "16    25958\n",
      "14    24074\n",
      "17    21226\n",
      "13    17946\n",
      "18    17517\n",
      "12    12120\n",
      "11     7095\n",
      "10     3017\n",
      "9      1165\n",
      "8       539\n",
      "7       245\n",
      "6       129\n",
      "5        74\n",
      "4        33\n",
      "1        19\n",
      "3        16\n",
      "2         5\n",
      "0         1\n",
      "Name: age_range, dtype: int64\n"
     ]
    }
   ],
   "source": [
    "#number of patients by Race\n",
    "x= cancer_df[\"age_range\"].value_counts()\n",
    "print(\"This is the number of patients by age group:\\n\" + str(x))"
   ]
  },
  {
   "cell_type": "code",
   "execution_count": 24,
   "metadata": {},
   "outputs": [
    {
     "data": {
      "image/png": "[encoded data removed]",
      "text/plain": [
       "<Figure size 1080x720 with 3 Axes>"
      ]
     },
     "metadata": {
      "needs_background": "light"
     },
     "output_type": "display_data"
    }
   ],
   "source": [
    "plt.figure(figsize=(15,10))\n",
    "vars_to_look = ['Sex','Race','age_range']\n",
    "for i, var in enumerate(vars_to_look):\n",
    "    plt.subplot(2,2,i+1)\n",
    "    if i ==3:\n",
    "        plt.xticks(rotation = 90)\n",
    "    sns.countplot(cancer_df[var])\n",
    "    plt.title(\"Count plot of \" + var)    "
   ]
  },
  {
   "cell_type": "markdown",
   "metadata": {},
   "source": [
    "* There is more men with lung cancer than that women.\n",
    "\n",
    "* There are significantly more white lung caner patients in the dataset. Followed by other races. Other races includes Asian  Americans and Pacific Islanders. \n",
    "\n",
    "* Most patients are in age ranges 15 and 16(which is ages 70-79), follwed by age range 14(which is ages 65-69) and ages 17(which is ages 80-84).\n",
    "\n",
    "* In summary, there exists a variation across the different categories, thus we may suspect that these differences are key to understanding the variation of lung cancer ratas."
   ]
  },
  {
   "cell_type": "code",
   "execution_count": 25,
   "metadata": {},
   "outputs": [
    {
     "data": {
      "image/png": "[encoded data removed]",
      "text/plain": [
       "<Figure size 432x288 with 1 Axes>"
      ]
     },
     "metadata": {
      "needs_background": "light"
     },
     "output_type": "display_data"
    }
   ],
   "source": [
    "#We have to generate a new dataset, one that's grouped by age, to make a bar chart\n",
    "#bar chart by sex\n",
    "age=((cancer_df.groupby(\"age_range\").count()/cancer_df.shape[0])*100).reset_index()\n",
    "sns.barplot(x=\"age_range\",y=\"patient\",data=age);"
   ]
  },
  {
   "cell_type": "markdown",
   "metadata": {},
   "source": [
    "### Most of the lung cancer patients appear to be older and only a few of them (less than 10%) are in the age-ranges lower than 11  (which is ages 55 and below). Therefore, for our analysis, we have decided to drop age ranges 10 and below."
   ]
  },
  {
   "cell_type": "code",
   "execution_count": 26,
   "metadata": {},
   "outputs": [
    {
     "data": {
      "text/html": [
       "<div>\n",
       "<style scoped>\n",
       "    .dataframe tbody tr th:only-of-type {\n",
       "        vertical-align: middle;\n",
       "    }\n",
       "\n",
       "    .dataframe tbody tr th {\n",
       "        vertical-align: top;\n",
       "    }\n",
       "\n",
       "    .dataframe thead th {\n",
       "        text-align: right;\n",
       "    }\n",
       "</style>\n",
       "<table border=\"1\" class=\"dataframe\">\n",
       "  <thead>\n",
       "    <tr style=\"text-align: right;\">\n",
       "      <th></th>\n",
       "      <th>Year</th>\n",
       "      <th>County</th>\n",
       "      <th>age_range</th>\n",
       "      <th>Race</th>\n",
       "      <th>Sex</th>\n",
       "      <th>patient</th>\n",
       "    </tr>\n",
       "  </thead>\n",
       "  <tbody>\n",
       "    <tr>\n",
       "      <th>0</th>\n",
       "      <td>2016</td>\n",
       "      <td>Los Angeles</td>\n",
       "      <td>11</td>\n",
       "      <td>1</td>\n",
       "      <td>1</td>\n",
       "      <td>1</td>\n",
       "    </tr>\n",
       "    <tr>\n",
       "      <th>2</th>\n",
       "      <td>2011</td>\n",
       "      <td>Los Angeles</td>\n",
       "      <td>17</td>\n",
       "      <td>1</td>\n",
       "      <td>0</td>\n",
       "      <td>1</td>\n",
       "    </tr>\n",
       "    <tr>\n",
       "      <th>3</th>\n",
       "      <td>2015</td>\n",
       "      <td>Los Angeles</td>\n",
       "      <td>18</td>\n",
       "      <td>1</td>\n",
       "      <td>0</td>\n",
       "      <td>1</td>\n",
       "    </tr>\n",
       "    <tr>\n",
       "      <th>4</th>\n",
       "      <td>2014</td>\n",
       "      <td>Los Angeles</td>\n",
       "      <td>18</td>\n",
       "      <td>1</td>\n",
       "      <td>0</td>\n",
       "      <td>1</td>\n",
       "    </tr>\n",
       "    <tr>\n",
       "      <th>5</th>\n",
       "      <td>2009</td>\n",
       "      <td>Los Angeles</td>\n",
       "      <td>18</td>\n",
       "      <td>1</td>\n",
       "      <td>1</td>\n",
       "      <td>1</td>\n",
       "    </tr>\n",
       "  </tbody>\n",
       "</table>\n",
       "</div>"
      ],
      "text/plain": [
       "   Year       County  age_range  Race  Sex  patient\n",
       "0  2016  Los Angeles         11     1    1        1\n",
       "2  2011  Los Angeles         17     1    0        1\n",
       "3  2015  Los Angeles         18     1    0        1\n",
       "4  2014  Los Angeles         18     1    0        1\n",
       "5  2009  Los Angeles         18     1    1        1"
      ]
     },
     "execution_count": 26,
     "metadata": {},
     "output_type": "execute_result"
    }
   ],
   "source": [
    "#Drop age ranges below 10\n",
    "cancer_df=cancer_df[cancer_df[\"age_range\"]>10]\n",
    "\n",
    "# Also make the sex variable into 1 and 0 values\n",
    "cancer_df[\"Sex\"]=cancer_df[\"Sex\"]-1\n",
    "cancer_df.head()"
   ]
  },
  {
   "cell_type": "markdown",
   "metadata": {},
   "source": [
    "# Data Cleaning: Condensing and Aggregating observations"
   ]
  },
  {
   "cell_type": "markdown",
   "metadata": {},
   "source": [
    "We have 158007 observations in our orginal cancer dataset. When we consider only some selected variables,like sex, race, and age-range then we have fewer unique observations. In the following we combine observations that have values for all variables identical.\n",
    "\n",
    "We use pandas’s groupby to combine identical observations and create a new variable freq that count how many observation have the values in the corresponding row."
   ]
  },
  {
   "cell_type": "code",
   "execution_count": 27,
   "metadata": {},
   "outputs": [
    {
     "name": "stdout",
     "output_type": "stream",
     "text": [
      "(14883, 6)\n"
     ]
    },
    {
     "data": {
      "text/html": [
       "<div>\n",
       "<style scoped>\n",
       "    .dataframe tbody tr th:only-of-type {\n",
       "        vertical-align: middle;\n",
       "    }\n",
       "\n",
       "    .dataframe tbody tr th {\n",
       "        vertical-align: top;\n",
       "    }\n",
       "\n",
       "    .dataframe thead th {\n",
       "        text-align: right;\n",
       "    }\n",
       "</style>\n",
       "<table border=\"1\" class=\"dataframe\">\n",
       "  <thead>\n",
       "    <tr style=\"text-align: right;\">\n",
       "      <th></th>\n",
       "      <th>Year</th>\n",
       "      <th>County</th>\n",
       "      <th>age_range</th>\n",
       "      <th>Race</th>\n",
       "      <th>Sex</th>\n",
       "      <th>freq</th>\n",
       "    </tr>\n",
       "  </thead>\n",
       "  <tbody>\n",
       "    <tr>\n",
       "      <th>0</th>\n",
       "      <td>2006</td>\n",
       "      <td>Alameda</td>\n",
       "      <td>11</td>\n",
       "      <td>1</td>\n",
       "      <td>0</td>\n",
       "      <td>13</td>\n",
       "    </tr>\n",
       "    <tr>\n",
       "      <th>1</th>\n",
       "      <td>2006</td>\n",
       "      <td>Alameda</td>\n",
       "      <td>11</td>\n",
       "      <td>1</td>\n",
       "      <td>1</td>\n",
       "      <td>9</td>\n",
       "    </tr>\n",
       "    <tr>\n",
       "      <th>2</th>\n",
       "      <td>2006</td>\n",
       "      <td>Alameda</td>\n",
       "      <td>11</td>\n",
       "      <td>2</td>\n",
       "      <td>0</td>\n",
       "      <td>9</td>\n",
       "    </tr>\n",
       "    <tr>\n",
       "      <th>3</th>\n",
       "      <td>2006</td>\n",
       "      <td>Alameda</td>\n",
       "      <td>11</td>\n",
       "      <td>2</td>\n",
       "      <td>1</td>\n",
       "      <td>16</td>\n",
       "    </tr>\n",
       "    <tr>\n",
       "      <th>4</th>\n",
       "      <td>2006</td>\n",
       "      <td>Alameda</td>\n",
       "      <td>11</td>\n",
       "      <td>3</td>\n",
       "      <td>0</td>\n",
       "      <td>2</td>\n",
       "    </tr>\n",
       "  </tbody>\n",
       "</table>\n",
       "</div>"
      ],
      "text/plain": [
       "   Year   County  age_range  Race  Sex  freq\n",
       "0  2006  Alameda         11     1    0    13\n",
       "1  2006  Alameda         11     1    1     9\n",
       "2  2006  Alameda         11     2    0     9\n",
       "3  2006  Alameda         11     2    1    16\n",
       "4  2006  Alameda         11     3    0     2"
      ]
     },
     "execution_count": 27,
     "metadata": {},
     "output_type": "execute_result"
    }
   ],
   "source": [
    "data=cancer_df.copy()\n",
    "data[\"const\"]=1\n",
    "dc=data[\"Year County age_range Race Sex const\".split()].groupby(\"Year County age_range Race Sex\".split()).count()\n",
    "dc.reset_index(inplace=True)\n",
    "dc.rename(columns={'const':'freq'}, inplace=True)\n",
    "print(dc.shape)\n",
    "dc.head()"
   ]
  },
  {
   "cell_type": "markdown",
   "metadata": {},
   "source": [
    "### We repeat the same steps for the population data."
   ]
  },
  {
   "cell_type": "code",
   "execution_count": 28,
   "metadata": {},
   "outputs": [
    {
     "data": {
      "text/html": [
       "<div>\n",
       "<style scoped>\n",
       "    .dataframe tbody tr th:only-of-type {\n",
       "        vertical-align: middle;\n",
       "    }\n",
       "\n",
       "    .dataframe tbody tr th {\n",
       "        vertical-align: top;\n",
       "    }\n",
       "\n",
       "    .dataframe thead th {\n",
       "        text-align: right;\n",
       "    }\n",
       "</style>\n",
       "<table border=\"1\" class=\"dataframe\">\n",
       "  <thead>\n",
       "    <tr style=\"text-align: right;\">\n",
       "      <th></th>\n",
       "      <th>Year</th>\n",
       "      <th>County</th>\n",
       "      <th>age_range</th>\n",
       "      <th>Race</th>\n",
       "      <th>Sex</th>\n",
       "      <th>population</th>\n",
       "    </tr>\n",
       "  </thead>\n",
       "  <tbody>\n",
       "    <tr>\n",
       "      <th>0</th>\n",
       "      <td>2006</td>\n",
       "      <td>Los Angeles</td>\n",
       "      <td>11</td>\n",
       "      <td>1</td>\n",
       "      <td>0</td>\n",
       "      <td>24305</td>\n",
       "    </tr>\n",
       "    <tr>\n",
       "      <th>1</th>\n",
       "      <td>2006</td>\n",
       "      <td>Los Angeles</td>\n",
       "      <td>11</td>\n",
       "      <td>1</td>\n",
       "      <td>0</td>\n",
       "      <td>25692</td>\n",
       "    </tr>\n",
       "    <tr>\n",
       "      <th>2</th>\n",
       "      <td>2006</td>\n",
       "      <td>Los Angeles</td>\n",
       "      <td>11</td>\n",
       "      <td>1</td>\n",
       "      <td>0</td>\n",
       "      <td>24209</td>\n",
       "    </tr>\n",
       "    <tr>\n",
       "      <th>3</th>\n",
       "      <td>2006</td>\n",
       "      <td>Los Angeles</td>\n",
       "      <td>11</td>\n",
       "      <td>1</td>\n",
       "      <td>0</td>\n",
       "      <td>23542</td>\n",
       "    </tr>\n",
       "    <tr>\n",
       "      <th>4</th>\n",
       "      <td>2006</td>\n",
       "      <td>Los Angeles</td>\n",
       "      <td>11</td>\n",
       "      <td>1</td>\n",
       "      <td>0</td>\n",
       "      <td>22600</td>\n",
       "    </tr>\n",
       "  </tbody>\n",
       "</table>\n",
       "</div>"
      ],
      "text/plain": [
       "   Year       County  age_range  Race  Sex  population\n",
       "0  2006  Los Angeles         11     1    0       24305\n",
       "1  2006  Los Angeles         11     1    0       25692\n",
       "2  2006  Los Angeles         11     1    0       24209\n",
       "3  2006  Los Angeles         11     1    0       23542\n",
       "4  2006  Los Angeles         11     1    0       22600"
      ]
     },
     "execution_count": 28,
     "metadata": {},
     "output_type": "execute_result"
    }
   ],
   "source": [
    "#write a loop that will call all the SEER csv and then concat them\n",
    "pop_df= pd.concat([pd.read_csv(file,delimiter=',', encoding='UTF-8') for file in POP_all]).reset_index()\n",
    "\n",
    "#The year variable is not correctly formatted so we fix that here\n",
    "pop_df['Year']= pop_df['Year']-200 +2000\n",
    "\n",
    "p={\"State-county\":\"County_Code\",\n",
    "   \"Age recode with <1 year olds\":\"age_range\",\n",
    "   \"Race recode (White, Black, Other)\":\"Race\",\n",
    "   \"Count\":\"population\"}\n",
    "\n",
    "pop_df.rename(columns=p, inplace=True)\n",
    "pop_df[\"Sex\"]=pop_df[\"Sex\"]-1\n",
    "\n",
    "#merge the fips_data\n",
    "pop_df[\"County_Code\"]=pop_df[\"County_Code\"].astype(int)\n",
    "pop_df= pd.merge(pop_df, fips_df, on=\"County_Code\", how=\"right\" ).reset_index()\n",
    "pop_df=pop_df[[\"Year\",\"County\",\"age_range\",\"Race\",\"Sex\",\"population\"]]\n",
    "pop_df.head()"
   ]
  },
  {
   "cell_type": "code",
   "execution_count": 29,
   "metadata": {},
   "outputs": [
    {
     "name": "stdout",
     "output_type": "stream",
     "text": [
      "(35503, 6)\n"
     ]
    },
    {
     "data": {
      "text/html": [
       "<div>\n",
       "<style scoped>\n",
       "    .dataframe tbody tr th:only-of-type {\n",
       "        vertical-align: middle;\n",
       "    }\n",
       "\n",
       "    .dataframe tbody tr th {\n",
       "        vertical-align: top;\n",
       "    }\n",
       "\n",
       "    .dataframe thead th {\n",
       "        text-align: right;\n",
       "    }\n",
       "</style>\n",
       "<table border=\"1\" class=\"dataframe\">\n",
       "  <thead>\n",
       "    <tr style=\"text-align: right;\">\n",
       "      <th></th>\n",
       "      <th>Year</th>\n",
       "      <th>County</th>\n",
       "      <th>age_range</th>\n",
       "      <th>Race</th>\n",
       "      <th>Sex</th>\n",
       "      <th>population</th>\n",
       "    </tr>\n",
       "  </thead>\n",
       "  <tbody>\n",
       "    <tr>\n",
       "      <th>0</th>\n",
       "      <td>2006</td>\n",
       "      <td>Alameda</td>\n",
       "      <td>11</td>\n",
       "      <td>1</td>\n",
       "      <td>0</td>\n",
       "      <td>29865</td>\n",
       "    </tr>\n",
       "    <tr>\n",
       "      <th>1</th>\n",
       "      <td>2006</td>\n",
       "      <td>Alameda</td>\n",
       "      <td>11</td>\n",
       "      <td>1</td>\n",
       "      <td>1</td>\n",
       "      <td>29574</td>\n",
       "    </tr>\n",
       "    <tr>\n",
       "      <th>2</th>\n",
       "      <td>2006</td>\n",
       "      <td>Alameda</td>\n",
       "      <td>11</td>\n",
       "      <td>2</td>\n",
       "      <td>0</td>\n",
       "      <td>6820</td>\n",
       "    </tr>\n",
       "    <tr>\n",
       "      <th>3</th>\n",
       "      <td>2006</td>\n",
       "      <td>Alameda</td>\n",
       "      <td>11</td>\n",
       "      <td>2</td>\n",
       "      <td>1</td>\n",
       "      <td>8050</td>\n",
       "    </tr>\n",
       "    <tr>\n",
       "      <th>4</th>\n",
       "      <td>2006</td>\n",
       "      <td>Alameda</td>\n",
       "      <td>11</td>\n",
       "      <td>3</td>\n",
       "      <td>0</td>\n",
       "      <td>12617</td>\n",
       "    </tr>\n",
       "  </tbody>\n",
       "</table>\n",
       "</div>"
      ],
      "text/plain": [
       "   Year   County  age_range  Race  Sex  population\n",
       "0  2006  Alameda         11     1    0       29865\n",
       "1  2006  Alameda         11     1    1       29574\n",
       "2  2006  Alameda         11     2    0        6820\n",
       "3  2006  Alameda         11     2    1        8050\n",
       "4  2006  Alameda         11     3    0       12617"
      ]
     },
     "execution_count": 29,
     "metadata": {},
     "output_type": "execute_result"
    }
   ],
   "source": [
    "data2=pop_df.copy()\n",
    "data2[\"const\"]=1\n",
    "pop=data2[\"Year County age_range Race Sex population\".split()].groupby(\"Year County age_range Race Sex\".split()).sum()\n",
    "pop.reset_index(inplace=True)\n",
    "print(pop.shape)\n",
    "pop.head()"
   ]
  },
  {
   "cell_type": "markdown",
   "metadata": {},
   "source": [
    "Now, we merge the cancer DataFrame and the population DataFrame."
   ]
  },
  {
   "cell_type": "code",
   "execution_count": 30,
   "metadata": {},
   "outputs": [
    {
     "data": {
      "text/html": [
       "<div>\n",
       "<style scoped>\n",
       "    .dataframe tbody tr th:only-of-type {\n",
       "        vertical-align: middle;\n",
       "    }\n",
       "\n",
       "    .dataframe tbody tr th {\n",
       "        vertical-align: top;\n",
       "    }\n",
       "\n",
       "    .dataframe thead th {\n",
       "        text-align: right;\n",
       "    }\n",
       "</style>\n",
       "<table border=\"1\" class=\"dataframe\">\n",
       "  <thead>\n",
       "    <tr style=\"text-align: right;\">\n",
       "      <th></th>\n",
       "      <th>Year</th>\n",
       "      <th>County</th>\n",
       "      <th>age_range</th>\n",
       "      <th>Race</th>\n",
       "      <th>Sex</th>\n",
       "      <th>freq</th>\n",
       "      <th>population</th>\n",
       "    </tr>\n",
       "  </thead>\n",
       "  <tbody>\n",
       "    <tr>\n",
       "      <th>0</th>\n",
       "      <td>2006</td>\n",
       "      <td>Alameda</td>\n",
       "      <td>11</td>\n",
       "      <td>1</td>\n",
       "      <td>0</td>\n",
       "      <td>13</td>\n",
       "      <td>29865</td>\n",
       "    </tr>\n",
       "    <tr>\n",
       "      <th>1</th>\n",
       "      <td>2006</td>\n",
       "      <td>Alameda</td>\n",
       "      <td>11</td>\n",
       "      <td>1</td>\n",
       "      <td>1</td>\n",
       "      <td>9</td>\n",
       "      <td>29574</td>\n",
       "    </tr>\n",
       "    <tr>\n",
       "      <th>2</th>\n",
       "      <td>2006</td>\n",
       "      <td>Alameda</td>\n",
       "      <td>11</td>\n",
       "      <td>2</td>\n",
       "      <td>0</td>\n",
       "      <td>9</td>\n",
       "      <td>6820</td>\n",
       "    </tr>\n",
       "    <tr>\n",
       "      <th>3</th>\n",
       "      <td>2006</td>\n",
       "      <td>Alameda</td>\n",
       "      <td>11</td>\n",
       "      <td>2</td>\n",
       "      <td>1</td>\n",
       "      <td>16</td>\n",
       "      <td>8050</td>\n",
       "    </tr>\n",
       "    <tr>\n",
       "      <th>4</th>\n",
       "      <td>2006</td>\n",
       "      <td>Alameda</td>\n",
       "      <td>11</td>\n",
       "      <td>3</td>\n",
       "      <td>0</td>\n",
       "      <td>2</td>\n",
       "      <td>12617</td>\n",
       "    </tr>\n",
       "  </tbody>\n",
       "</table>\n",
       "</div>"
      ],
      "text/plain": [
       "   Year   County  age_range  Race  Sex  freq  population\n",
       "0  2006  Alameda         11     1    0    13       29865\n",
       "1  2006  Alameda         11     1    1     9       29574\n",
       "2  2006  Alameda         11     2    0     9        6820\n",
       "3  2006  Alameda         11     2    1    16        8050\n",
       "4  2006  Alameda         11     3    0     2       12617"
      ]
     },
     "execution_count": 30,
     "metadata": {},
     "output_type": "execute_result"
    }
   ],
   "source": [
    "#merge cancer and population\n",
    "pd.set_option('precision', 0)\n",
    "cancer_pop=pd.merge(dc, pop, on=[\"Year\",\"County\",\"age_range\",\"Race\",\"Sex\"], how=\"outer\").reset_index()\n",
    "cancer_pop[\"lung_cancer_rates\"]=cancer_pop[\"freq\"]/cancer_pop[\"population\"] *100\n",
    "cancer_pop=cancer_pop.dropna()\n",
    "cancer_pop=cancer_pop[[\"Year\",\"County\",\"age_range\",\"Race\",\"Sex\",\"freq\",\"population\",]]\n",
    "cancer_pop.head()"
   ]
  },
  {
   "cell_type": "markdown",
   "metadata": {},
   "source": [
    "We import the smoking data."
   ]
  },
  {
   "cell_type": "code",
   "execution_count": 31,
   "metadata": {},
   "outputs": [
    {
     "data": {
      "text/html": [
       "<div>\n",
       "<style scoped>\n",
       "    .dataframe tbody tr th:only-of-type {\n",
       "        vertical-align: middle;\n",
       "    }\n",
       "\n",
       "    .dataframe tbody tr th {\n",
       "        vertical-align: top;\n",
       "    }\n",
       "\n",
       "    .dataframe thead th {\n",
       "        text-align: right;\n",
       "    }\n",
       "</style>\n",
       "<table border=\"1\" class=\"dataframe\">\n",
       "  <thead>\n",
       "    <tr style=\"text-align: right;\">\n",
       "      <th></th>\n",
       "      <th>Year</th>\n",
       "      <th>County</th>\n",
       "      <th>smoking rate</th>\n",
       "    </tr>\n",
       "  </thead>\n",
       "  <tbody>\n",
       "    <tr>\n",
       "      <th>0</th>\n",
       "      <td>2006</td>\n",
       "      <td>Alameda</td>\n",
       "      <td>12</td>\n",
       "    </tr>\n",
       "    <tr>\n",
       "      <th>1</th>\n",
       "      <td>2006</td>\n",
       "      <td>Alpine</td>\n",
       "      <td>31</td>\n",
       "    </tr>\n",
       "    <tr>\n",
       "      <th>2</th>\n",
       "      <td>2006</td>\n",
       "      <td>Amador</td>\n",
       "      <td>19</td>\n",
       "    </tr>\n",
       "    <tr>\n",
       "      <th>3</th>\n",
       "      <td>2006</td>\n",
       "      <td>Butte</td>\n",
       "      <td>22</td>\n",
       "    </tr>\n",
       "    <tr>\n",
       "      <th>4</th>\n",
       "      <td>2006</td>\n",
       "      <td>Calaveras</td>\n",
       "      <td>20</td>\n",
       "    </tr>\n",
       "  </tbody>\n",
       "</table>\n",
       "</div>"
      ],
      "text/plain": [
       "   Year     County  smoking rate\n",
       "0  2006    Alameda            12\n",
       "1  2006     Alpine            31\n",
       "2  2006     Amador            19\n",
       "3  2006      Butte            22\n",
       "4  2006  Calaveras            20"
      ]
     },
     "execution_count": 31,
     "metadata": {},
     "output_type": "execute_result"
    }
   ],
   "source": [
    "#smoking dataset\n",
    "smoking=pd.read_csv('./smoking.csv')\n",
    "smoking.head()"
   ]
  },
  {
   "cell_type": "code",
   "execution_count": 32,
   "metadata": {},
   "outputs": [
    {
     "name": "stdout",
     "output_type": "stream",
     "text": [
      "<class 'pandas.core.frame.DataFrame'>\n",
      "RangeIndex: 649 entries, 0 to 648\n",
      "Data columns (total 3 columns):\n",
      " #   Column        Non-Null Count  Dtype  \n",
      "---  ------        --------------  -----  \n",
      " 0   Year          648 non-null    float64\n",
      " 1   County        647 non-null    object \n",
      " 2   smoking rate  624 non-null    float64\n",
      "dtypes: float64(2), object(1)\n",
      "memory usage: 15.3+ KB\n"
     ]
    }
   ],
   "source": [
    "smoking.info()"
   ]
  },
  {
   "cell_type": "markdown",
   "metadata": {},
   "source": [
    "We merge the cancer and hspa DataFrames."
   ]
  },
  {
   "cell_type": "code",
   "execution_count": 33,
   "metadata": {},
   "outputs": [
    {
     "data": {
      "text/plain": [
       "1    49\n",
       "Name: MUA_indicator, dtype: int64"
      ]
     },
     "execution_count": 33,
     "metadata": {},
     "output_type": "execute_result"
    }
   ],
   "source": [
    "#merge with cancer_data. Now cancer, fips and hspa is merged\n",
    "hspa_df[\"County\"]=hspa_df[\"County\"].astype(str)\n",
    "cancer_pop[\"County\"]=cancer_pop[\"County\"].astype(str)\n",
    "\n",
    "\n",
    "hspa_df['MUA_indicator'].value_counts()"
   ]
  },
  {
   "cell_type": "markdown",
   "metadata": {},
   "source": [
    "### In order to make sure that we have a representative sample and not get cofounded by county size, we will be creating a weight for our dataset . Weighting factors are used in sampling to make samples match the population. To calculate how much weight we need, we will divide the known population percentage by the percent in the sample. "
   ]
  },
  {
   "cell_type": "code",
   "execution_count": 34,
   "metadata": {},
   "outputs": [
    {
     "data": {
      "text/html": [
       "<div>\n",
       "<style scoped>\n",
       "    .dataframe tbody tr th:only-of-type {\n",
       "        vertical-align: middle;\n",
       "    }\n",
       "\n",
       "    .dataframe tbody tr th {\n",
       "        vertical-align: top;\n",
       "    }\n",
       "\n",
       "    .dataframe thead th {\n",
       "        text-align: right;\n",
       "    }\n",
       "</style>\n",
       "<table border=\"1\" class=\"dataframe\">\n",
       "  <thead>\n",
       "    <tr style=\"text-align: right;\">\n",
       "      <th></th>\n",
       "      <th>index</th>\n",
       "      <th>Year</th>\n",
       "      <th>County</th>\n",
       "      <th>age_range</th>\n",
       "      <th>Race</th>\n",
       "      <th>Sex</th>\n",
       "      <th>freq</th>\n",
       "      <th>population</th>\n",
       "      <th>MUA_indicator</th>\n",
       "      <th>smoking rate</th>\n",
       "      <th>sample%</th>\n",
       "      <th>pop%</th>\n",
       "      <th>wgt</th>\n",
       "      <th>lc_raw</th>\n",
       "      <th>lc(w%)</th>\n",
       "      <th>lc/100k</th>\n",
       "    </tr>\n",
       "  </thead>\n",
       "  <tbody>\n",
       "    <tr>\n",
       "      <th>0</th>\n",
       "      <td>0</td>\n",
       "      <td>2006</td>\n",
       "      <td>Alameda</td>\n",
       "      <td>11</td>\n",
       "      <td>1</td>\n",
       "      <td>0</td>\n",
       "      <td>13</td>\n",
       "      <td>29865</td>\n",
       "      <td>1</td>\n",
       "      <td>12</td>\n",
       "      <td>2e-02</td>\n",
       "      <td>7e-02</td>\n",
       "      <td>4e+00</td>\n",
       "      <td>48</td>\n",
       "      <td>7</td>\n",
       "      <td>44</td>\n",
       "    </tr>\n",
       "    <tr>\n",
       "      <th>1</th>\n",
       "      <td>1</td>\n",
       "      <td>2006</td>\n",
       "      <td>Alameda</td>\n",
       "      <td>11</td>\n",
       "      <td>1</td>\n",
       "      <td>1</td>\n",
       "      <td>9</td>\n",
       "      <td>29574</td>\n",
       "      <td>1</td>\n",
       "      <td>12</td>\n",
       "      <td>1e-02</td>\n",
       "      <td>7e-02</td>\n",
       "      <td>5e+00</td>\n",
       "      <td>47</td>\n",
       "      <td>7</td>\n",
       "      <td>30</td>\n",
       "    </tr>\n",
       "    <tr>\n",
       "      <th>2</th>\n",
       "      <td>2</td>\n",
       "      <td>2006</td>\n",
       "      <td>Alameda</td>\n",
       "      <td>11</td>\n",
       "      <td>2</td>\n",
       "      <td>0</td>\n",
       "      <td>9</td>\n",
       "      <td>6820</td>\n",
       "      <td>1</td>\n",
       "      <td>12</td>\n",
       "      <td>1e-02</td>\n",
       "      <td>2e-02</td>\n",
       "      <td>1e+00</td>\n",
       "      <td>11</td>\n",
       "      <td>2</td>\n",
       "      <td>132</td>\n",
       "    </tr>\n",
       "    <tr>\n",
       "      <th>3</th>\n",
       "      <td>3</td>\n",
       "      <td>2006</td>\n",
       "      <td>Alameda</td>\n",
       "      <td>11</td>\n",
       "      <td>2</td>\n",
       "      <td>1</td>\n",
       "      <td>16</td>\n",
       "      <td>8050</td>\n",
       "      <td>1</td>\n",
       "      <td>12</td>\n",
       "      <td>2e-02</td>\n",
       "      <td>2e-02</td>\n",
       "      <td>8e-01</td>\n",
       "      <td>13</td>\n",
       "      <td>2</td>\n",
       "      <td>199</td>\n",
       "    </tr>\n",
       "    <tr>\n",
       "      <th>4</th>\n",
       "      <td>4</td>\n",
       "      <td>2006</td>\n",
       "      <td>Alameda</td>\n",
       "      <td>11</td>\n",
       "      <td>3</td>\n",
       "      <td>0</td>\n",
       "      <td>2</td>\n",
       "      <td>12617</td>\n",
       "      <td>1</td>\n",
       "      <td>12</td>\n",
       "      <td>3e-03</td>\n",
       "      <td>3e-02</td>\n",
       "      <td>1e+01</td>\n",
       "      <td>20</td>\n",
       "      <td>3</td>\n",
       "      <td>16</td>\n",
       "    </tr>\n",
       "  </tbody>\n",
       "</table>\n",
       "</div>"
      ],
      "text/plain": [
       "   index  Year   County  age_range  Race  Sex  freq  population  \\\n",
       "0      0  2006  Alameda         11     1    0    13       29865   \n",
       "1      1  2006  Alameda         11     1    1     9       29574   \n",
       "2      2  2006  Alameda         11     2    0     9        6820   \n",
       "3      3  2006  Alameda         11     2    1    16        8050   \n",
       "4      4  2006  Alameda         11     3    0     2       12617   \n",
       "\n",
       "   MUA_indicator  smoking rate  sample%   pop%    wgt  lc_raw  lc(w%)  lc/100k  \n",
       "0              1            12    2e-02  7e-02  4e+00      48       7       44  \n",
       "1              1            12    1e-02  7e-02  5e+00      47       7       30  \n",
       "2              1            12    1e-02  2e-02  1e+00      11       2      132  \n",
       "3              1            12    2e-02  2e-02  8e-01      13       2      199  \n",
       "4              1            12    3e-03  3e-02  1e+01      20       3       16  "
      ]
     },
     "execution_count": 34,
     "metadata": {},
     "output_type": "execute_result"
    }
   ],
   "source": [
    "#merge hspa_Df with cancer and population, and smoking data\n",
    "main= pd.merge(cancer_pop, hspa_df, on=\"County\" , how=\"outer\")\n",
    "\n",
    "#creating indicator variables(MUA_inidcators=1 is a MUA and 0 is not a MUA)\n",
    "main['MUA_indicator']= main['MUA_indicator'].fillna(0)\n",
    "main=pd.merge(main, smoking, on=[\"Year\",\"County\"], how=\"outer\").reset_index()\n",
    "\n",
    "#drop the 4 conties that were missing in the AQI DataFrame\n",
    "main=main.dropna()\n",
    "#calculate weight to adjust for population\n",
    "#sample/frequency percentage\n",
    "main[\"sample%\"]=main['freq']/main.groupby(['Year','County'])['freq'].transform('sum')\n",
    "\n",
    "#population percentage\n",
    "main[\"pop%\"]=main['population']/main.groupby(['Year','County'])['population'].transform('sum')\n",
    "\n",
    "\n",
    "#weight\n",
    "main[\"wgt\"]=main[\"pop%\"]/main[\"sample%\"]\n",
    "\n",
    "#create a weighted lung cancer frequency \n",
    "main[\"lc_raw\"]=((main[\"freq\"]*main[\"wgt\"])) \n",
    "\n",
    "#create a lung cancer percentage (by population) that's weigted \n",
    "main[\"lc(w%)\"]=main['lc_raw']/main.groupby(['Year','County'])['lc_raw'].transform('sum') *100\n",
    "main[\"lc/100k\"]=(main[\"freq\"]/main['population'])*100000\n",
    "\n",
    "main.head()"
   ]
  },
  {
   "cell_type": "code",
   "execution_count": 35,
   "metadata": {},
   "outputs": [],
   "source": [
    "main[\"lc/100k\"]=(main[\"freq\"]/main['population'])*100000\n",
    "all=main.groupby(['County','Year']).sum().reset_index()\n",
    "sex=main.groupby(['County','Year','Sex']).sum().reset_index()\n",
    "race=main.groupby(['County','Year','Race']).sum().reset_index()\n",
    "age=main.groupby(['County','Year','age_range']).sum().reset_index()"
   ]
  },
  {
   "cell_type": "code",
   "execution_count": null,
   "metadata": {},
   "outputs": [],
   "source": []
  },
  {
   "cell_type": "code",
   "execution_count": 36,
   "metadata": {},
   "outputs": [],
   "source": [
    "dataset_test=cancer_df.copy()"
   ]
  },
  {
   "cell_type": "code",
   "execution_count": 37,
   "metadata": {},
   "outputs": [],
   "source": [
    "dataset_test.to_csv('all.csv')"
   ]
  },
  {
   "cell_type": "code",
   "execution_count": null,
   "metadata": {},
   "outputs": [],
   "source": []
  },
  {
   "cell_type": "markdown",
   "metadata": {},
   "source": [
    "Now we merge all our DataFrames to get one DataFrame to work from."
   ]
  },
  {
   "cell_type": "code",
   "execution_count": 38,
   "metadata": {
    "scrolled": true
   },
   "outputs": [
    {
     "data": {
      "text/html": [
       "<div>\n",
       "<style scoped>\n",
       "    .dataframe tbody tr th:only-of-type {\n",
       "        vertical-align: middle;\n",
       "    }\n",
       "\n",
       "    .dataframe tbody tr th {\n",
       "        vertical-align: top;\n",
       "    }\n",
       "\n",
       "    .dataframe thead th {\n",
       "        text-align: right;\n",
       "    }\n",
       "</style>\n",
       "<table border=\"1\" class=\"dataframe\">\n",
       "  <thead>\n",
       "    <tr style=\"text-align: right;\">\n",
       "      <th></th>\n",
       "      <th>level_0</th>\n",
       "      <th>index</th>\n",
       "      <th>Year</th>\n",
       "      <th>County</th>\n",
       "      <th>age_range</th>\n",
       "      <th>Race</th>\n",
       "      <th>Sex</th>\n",
       "      <th>freq</th>\n",
       "      <th>population</th>\n",
       "      <th>MUA_indicator</th>\n",
       "      <th>...</th>\n",
       "      <th>Days_SO2</th>\n",
       "      <th>Days_PM2.5</th>\n",
       "      <th>Days_PM10</th>\n",
       "      <th>% Good_Days</th>\n",
       "      <th>% Moderate_Days</th>\n",
       "      <th>% Unhealthy_for_Sensitive_Groups_Days</th>\n",
       "      <th>% Unhealthy_Days</th>\n",
       "      <th>% Very_Unhealthy_Days</th>\n",
       "      <th>% Hazardous_Days</th>\n",
       "      <th>% PM2.5_Days</th>\n",
       "    </tr>\n",
       "  </thead>\n",
       "  <tbody>\n",
       "    <tr>\n",
       "      <th>0</th>\n",
       "      <td>0</td>\n",
       "      <td>0</td>\n",
       "      <td>2006</td>\n",
       "      <td>Alameda</td>\n",
       "      <td>11</td>\n",
       "      <td>1</td>\n",
       "      <td>0</td>\n",
       "      <td>13</td>\n",
       "      <td>29865</td>\n",
       "      <td>1</td>\n",
       "      <td>...</td>\n",
       "      <td></td>\n",
       "      <td>185</td>\n",
       "      <td></td>\n",
       "      <td>6</td>\n",
       "      <td>34</td>\n",
       "      <td>5</td>\n",
       "      <td>1</td>\n",
       "      <td></td>\n",
       "      <td></td>\n",
       "      <td>51</td>\n",
       "    </tr>\n",
       "    <tr>\n",
       "      <th>1</th>\n",
       "      <td>1</td>\n",
       "      <td>1</td>\n",
       "      <td>2006</td>\n",
       "      <td>Alameda</td>\n",
       "      <td>11</td>\n",
       "      <td>1</td>\n",
       "      <td>1</td>\n",
       "      <td>9</td>\n",
       "      <td>29574</td>\n",
       "      <td>1</td>\n",
       "      <td>...</td>\n",
       "      <td></td>\n",
       "      <td>185</td>\n",
       "      <td></td>\n",
       "      <td>6</td>\n",
       "      <td>34</td>\n",
       "      <td>5</td>\n",
       "      <td>1</td>\n",
       "      <td></td>\n",
       "      <td></td>\n",
       "      <td>51</td>\n",
       "    </tr>\n",
       "    <tr>\n",
       "      <th>2</th>\n",
       "      <td>2</td>\n",
       "      <td>2</td>\n",
       "      <td>2006</td>\n",
       "      <td>Alameda</td>\n",
       "      <td>11</td>\n",
       "      <td>2</td>\n",
       "      <td>0</td>\n",
       "      <td>9</td>\n",
       "      <td>6820</td>\n",
       "      <td>1</td>\n",
       "      <td>...</td>\n",
       "      <td></td>\n",
       "      <td>185</td>\n",
       "      <td></td>\n",
       "      <td>6</td>\n",
       "      <td>34</td>\n",
       "      <td>5</td>\n",
       "      <td>1</td>\n",
       "      <td></td>\n",
       "      <td></td>\n",
       "      <td>51</td>\n",
       "    </tr>\n",
       "    <tr>\n",
       "      <th>3</th>\n",
       "      <td>3</td>\n",
       "      <td>3</td>\n",
       "      <td>2006</td>\n",
       "      <td>Alameda</td>\n",
       "      <td>11</td>\n",
       "      <td>2</td>\n",
       "      <td>1</td>\n",
       "      <td>16</td>\n",
       "      <td>8050</td>\n",
       "      <td>1</td>\n",
       "      <td>...</td>\n",
       "      <td></td>\n",
       "      <td>185</td>\n",
       "      <td></td>\n",
       "      <td>6</td>\n",
       "      <td>34</td>\n",
       "      <td>5</td>\n",
       "      <td>1</td>\n",
       "      <td></td>\n",
       "      <td></td>\n",
       "      <td>51</td>\n",
       "    </tr>\n",
       "    <tr>\n",
       "      <th>4</th>\n",
       "      <td>4</td>\n",
       "      <td>4</td>\n",
       "      <td>2006</td>\n",
       "      <td>Alameda</td>\n",
       "      <td>11</td>\n",
       "      <td>3</td>\n",
       "      <td>0</td>\n",
       "      <td>2</td>\n",
       "      <td>12617</td>\n",
       "      <td>1</td>\n",
       "      <td>...</td>\n",
       "      <td></td>\n",
       "      <td>185</td>\n",
       "      <td></td>\n",
       "      <td>6</td>\n",
       "      <td>34</td>\n",
       "      <td>5</td>\n",
       "      <td>1</td>\n",
       "      <td></td>\n",
       "      <td></td>\n",
       "      <td>51</td>\n",
       "    </tr>\n",
       "  </tbody>\n",
       "</table>\n",
       "<p>5 rows × 40 columns</p>\n",
       "</div>"
      ],
      "text/plain": [
       "   level_0  index  Year   County  age_range  Race  Sex  freq  population  \\\n",
       "0        0      0  2006  Alameda         11     1    0    13       29865   \n",
       "1        1      1  2006  Alameda         11     1    1     9       29574   \n",
       "2        2      2  2006  Alameda         11     2    0     9        6820   \n",
       "3        3      3  2006  Alameda         11     2    1    16        8050   \n",
       "4        4      4  2006  Alameda         11     3    0     2       12617   \n",
       "\n",
       "   MUA_indicator  ...  Days_SO2  Days_PM2.5  Days_PM10  % Good_Days  \\\n",
       "0              1  ...                   185                       6   \n",
       "1              1  ...                   185                       6   \n",
       "2              1  ...                   185                       6   \n",
       "3              1  ...                   185                       6   \n",
       "4              1  ...                   185                       6   \n",
       "\n",
       "   % Moderate_Days  % Unhealthy_for_Sensitive_Groups_Days  % Unhealthy_Days  \\\n",
       "0               34                                      5                 1   \n",
       "1               34                                      5                 1   \n",
       "2               34                                      5                 1   \n",
       "3               34                                      5                 1   \n",
       "4               34                                      5                 1   \n",
       "\n",
       "   % Very_Unhealthy_Days  % Hazardous_Days  % PM2.5_Days  \n",
       "0                                                     51  \n",
       "1                                                     51  \n",
       "2                                                     51  \n",
       "3                                                     51  \n",
       "4                                                     51  \n",
       "\n",
       "[5 rows x 40 columns]"
      ]
     },
     "execution_count": 38,
     "metadata": {},
     "output_type": "execute_result"
    }
   ],
   "source": [
    "#merge the AQI dataset to the weighted cancer dataset\n",
    "dataset=pd.merge(main, aqi_df, on=[\"Year\",\"County\"],how=\"outer\").reset_index()\n",
    "dataset=dataset[dataset['County'] !=\"California\"]\n",
    "dataset=dataset.dropna()\n",
    "dataset.head()"
   ]
  },
  {
   "cell_type": "code",
   "execution_count": 39,
   "metadata": {},
   "outputs": [
    {
     "data": {
      "text/html": [
       "<div>\n",
       "<style scoped>\n",
       "    .dataframe tbody tr th:only-of-type {\n",
       "        vertical-align: middle;\n",
       "    }\n",
       "\n",
       "    .dataframe tbody tr th {\n",
       "        vertical-align: top;\n",
       "    }\n",
       "\n",
       "    .dataframe thead th {\n",
       "        text-align: right;\n",
       "    }\n",
       "</style>\n",
       "<table border=\"1\" class=\"dataframe\">\n",
       "  <thead>\n",
       "    <tr style=\"text-align: right;\">\n",
       "      <th></th>\n",
       "      <th>level_0</th>\n",
       "      <th>index</th>\n",
       "      <th>Year</th>\n",
       "      <th>age_range</th>\n",
       "      <th>Race</th>\n",
       "      <th>Sex</th>\n",
       "      <th>freq</th>\n",
       "      <th>population</th>\n",
       "      <th>MUA_indicator</th>\n",
       "      <th>smoking rate</th>\n",
       "      <th>...</th>\n",
       "      <th>Days_SO2</th>\n",
       "      <th>Days_PM2.5</th>\n",
       "      <th>Days_PM10</th>\n",
       "      <th>% Good_Days</th>\n",
       "      <th>% Moderate_Days</th>\n",
       "      <th>% Unhealthy_for_Sensitive_Groups_Days</th>\n",
       "      <th>% Unhealthy_Days</th>\n",
       "      <th>% Very_Unhealthy_Days</th>\n",
       "      <th>% Hazardous_Days</th>\n",
       "      <th>% PM2.5_Days</th>\n",
       "    </tr>\n",
       "  </thead>\n",
       "  <tbody>\n",
       "    <tr>\n",
       "      <th>count</th>\n",
       "      <td>15017</td>\n",
       "      <td>15017</td>\n",
       "      <td>15017</td>\n",
       "      <td>15017</td>\n",
       "      <td>2e+04</td>\n",
       "      <td>2e+04</td>\n",
       "      <td>15017</td>\n",
       "      <td>15017</td>\n",
       "      <td>2e+04</td>\n",
       "      <td>15017</td>\n",
       "      <td>...</td>\n",
       "      <td>2e+04</td>\n",
       "      <td>15017</td>\n",
       "      <td>15017</td>\n",
       "      <td>15017</td>\n",
       "      <td>15017</td>\n",
       "      <td>15017</td>\n",
       "      <td>2e+04</td>\n",
       "      <td>2e+04</td>\n",
       "      <td>2e+04</td>\n",
       "      <td>15017</td>\n",
       "    </tr>\n",
       "    <tr>\n",
       "      <th>mean</th>\n",
       "      <td>7508</td>\n",
       "      <td>7604</td>\n",
       "      <td>2011</td>\n",
       "      <td>15</td>\n",
       "      <td>2e+00</td>\n",
       "      <td>5e-01</td>\n",
       "      <td>10</td>\n",
       "      <td>7930</td>\n",
       "      <td>9e-01</td>\n",
       "      <td>14</td>\n",
       "      <td>...</td>\n",
       "      <td>3e-01</td>\n",
       "      <td>121</td>\n",
       "      <td>7</td>\n",
       "      <td>53</td>\n",
       "      <td>35</td>\n",
       "      <td>8</td>\n",
       "      <td>3e+00</td>\n",
       "      <td>2e-01</td>\n",
       "      <td>3e-02</td>\n",
       "      <td>34</td>\n",
       "    </tr>\n",
       "    <tr>\n",
       "      <th>std</th>\n",
       "      <td>4335</td>\n",
       "      <td>4366</td>\n",
       "      <td>3</td>\n",
       "      <td>2</td>\n",
       "      <td>8e-01</td>\n",
       "      <td>5e-01</td>\n",
       "      <td>16</td>\n",
       "      <td>18222</td>\n",
       "      <td>3e-01</td>\n",
       "      <td>4</td>\n",
       "      <td>...</td>\n",
       "      <td>3e+00</td>\n",
       "      <td>70</td>\n",
       "      <td>21</td>\n",
       "      <td>26</td>\n",
       "      <td>17</td>\n",
       "      <td>9</td>\n",
       "      <td>5e+00</td>\n",
       "      <td>8e-01</td>\n",
       "      <td>2e-01</td>\n",
       "      <td>21</td>\n",
       "    </tr>\n",
       "    <tr>\n",
       "      <th>min</th>\n",
       "      <td>0</td>\n",
       "      <td>0</td>\n",
       "      <td>2006</td>\n",
       "      <td>11</td>\n",
       "      <td>1e+00</td>\n",
       "      <td>0e+00</td>\n",
       "      <td>1</td>\n",
       "      <td>1</td>\n",
       "      <td>0e+00</td>\n",
       "      <td>6</td>\n",
       "      <td>...</td>\n",
       "      <td>0e+00</td>\n",
       "      <td>0</td>\n",
       "      <td>0</td>\n",
       "      <td>3</td>\n",
       "      <td>0</td>\n",
       "      <td>0</td>\n",
       "      <td>0e+00</td>\n",
       "      <td>0e+00</td>\n",
       "      <td>0e+00</td>\n",
       "      <td>0</td>\n",
       "    </tr>\n",
       "    <tr>\n",
       "      <th>25%</th>\n",
       "      <td>3754</td>\n",
       "      <td>3839</td>\n",
       "      <td>2008</td>\n",
       "      <td>13</td>\n",
       "      <td>1e+00</td>\n",
       "      <td>0e+00</td>\n",
       "      <td>2</td>\n",
       "      <td>842</td>\n",
       "      <td>1e+00</td>\n",
       "      <td>11</td>\n",
       "      <td>...</td>\n",
       "      <td>0e+00</td>\n",
       "      <td>73</td>\n",
       "      <td>0</td>\n",
       "      <td>33</td>\n",
       "      <td>23</td>\n",
       "      <td>1</td>\n",
       "      <td>0e+00</td>\n",
       "      <td>0e+00</td>\n",
       "      <td>0e+00</td>\n",
       "      <td>20</td>\n",
       "    </tr>\n",
       "    <tr>\n",
       "      <th>50%</th>\n",
       "      <td>7508</td>\n",
       "      <td>7624</td>\n",
       "      <td>2011</td>\n",
       "      <td>15</td>\n",
       "      <td>1e+00</td>\n",
       "      <td>0e+00</td>\n",
       "      <td>4</td>\n",
       "      <td>2608</td>\n",
       "      <td>1e+00</td>\n",
       "      <td>13</td>\n",
       "      <td>...</td>\n",
       "      <td>0e+00</td>\n",
       "      <td>129</td>\n",
       "      <td>1</td>\n",
       "      <td>56</td>\n",
       "      <td>36</td>\n",
       "      <td>5</td>\n",
       "      <td>3e-01</td>\n",
       "      <td>0e+00</td>\n",
       "      <td>0e+00</td>\n",
       "      <td>36</td>\n",
       "    </tr>\n",
       "    <tr>\n",
       "      <th>75%</th>\n",
       "      <td>11262</td>\n",
       "      <td>11378</td>\n",
       "      <td>2014</td>\n",
       "      <td>16</td>\n",
       "      <td>2e+00</td>\n",
       "      <td>1e+00</td>\n",
       "      <td>11</td>\n",
       "      <td>7414</td>\n",
       "      <td>1e+00</td>\n",
       "      <td>16</td>\n",
       "      <td>...</td>\n",
       "      <td>0e+00</td>\n",
       "      <td>165</td>\n",
       "      <td>6</td>\n",
       "      <td>73</td>\n",
       "      <td>47</td>\n",
       "      <td>13</td>\n",
       "      <td>3e+00</td>\n",
       "      <td>0e+00</td>\n",
       "      <td>0e+00</td>\n",
       "      <td>46</td>\n",
       "    </tr>\n",
       "    <tr>\n",
       "      <th>max</th>\n",
       "      <td>15017</td>\n",
       "      <td>15158</td>\n",
       "      <td>2016</td>\n",
       "      <td>18</td>\n",
       "      <td>3e+00</td>\n",
       "      <td>1e+00</td>\n",
       "      <td>126</td>\n",
       "      <td>245620</td>\n",
       "      <td>1e+00</td>\n",
       "      <td>31</td>\n",
       "      <td>...</td>\n",
       "      <td>6e+01</td>\n",
       "      <td>355</td>\n",
       "      <td>354</td>\n",
       "      <td>100</td>\n",
       "      <td>76</td>\n",
       "      <td>42</td>\n",
       "      <td>2e+01</td>\n",
       "      <td>7e+00</td>\n",
       "      <td>7e+00</td>\n",
       "      <td>100</td>\n",
       "    </tr>\n",
       "  </tbody>\n",
       "</table>\n",
       "<p>8 rows × 39 columns</p>\n",
       "</div>"
      ],
      "text/plain": [
       "       level_0  index   Year  age_range   Race    Sex   freq  population  \\\n",
       "count    15017  15017  15017      15017  2e+04  2e+04  15017       15017   \n",
       "mean      7508   7604   2011         15  2e+00  5e-01     10        7930   \n",
       "std       4335   4366      3          2  8e-01  5e-01     16       18222   \n",
       "min          0      0   2006         11  1e+00  0e+00      1           1   \n",
       "25%       3754   3839   2008         13  1e+00  0e+00      2         842   \n",
       "50%       7508   7624   2011         15  1e+00  0e+00      4        2608   \n",
       "75%      11262  11378   2014         16  2e+00  1e+00     11        7414   \n",
       "max      15017  15158   2016         18  3e+00  1e+00    126      245620   \n",
       "\n",
       "       MUA_indicator  smoking rate  ...  Days_SO2  Days_PM2.5  Days_PM10  \\\n",
       "count          2e+04         15017  ...     2e+04       15017      15017   \n",
       "mean           9e-01            14  ...     3e-01         121          7   \n",
       "std            3e-01             4  ...     3e+00          70         21   \n",
       "min            0e+00             6  ...     0e+00           0          0   \n",
       "25%            1e+00            11  ...     0e+00          73          0   \n",
       "50%            1e+00            13  ...     0e+00         129          1   \n",
       "75%            1e+00            16  ...     0e+00         165          6   \n",
       "max            1e+00            31  ...     6e+01         355        354   \n",
       "\n",
       "       % Good_Days  % Moderate_Days  % Unhealthy_for_Sensitive_Groups_Days  \\\n",
       "count        15017            15017                                  15017   \n",
       "mean            53               35                                      8   \n",
       "std             26               17                                      9   \n",
       "min              3                0                                      0   \n",
       "25%             33               23                                      1   \n",
       "50%             56               36                                      5   \n",
       "75%             73               47                                     13   \n",
       "max            100               76                                     42   \n",
       "\n",
       "       % Unhealthy_Days  % Very_Unhealthy_Days  % Hazardous_Days  % PM2.5_Days  \n",
       "count             2e+04                  2e+04             2e+04         15017  \n",
       "mean              3e+00                  2e-01             3e-02            34  \n",
       "std               5e+00                  8e-01             2e-01            21  \n",
       "min               0e+00                  0e+00             0e+00             0  \n",
       "25%               0e+00                  0e+00             0e+00            20  \n",
       "50%               3e-01                  0e+00             0e+00            36  \n",
       "75%               3e+00                  0e+00             0e+00            46  \n",
       "max               2e+01                  7e+00             7e+00           100  \n",
       "\n",
       "[8 rows x 39 columns]"
      ]
     },
     "execution_count": 39,
     "metadata": {},
     "output_type": "execute_result"
    }
   ],
   "source": [
    "dataset.describe()"
   ]
  },
  {
   "cell_type": "markdown",
   "metadata": {},
   "source": [
    "We can see that the average age range is 15, which is ages between 70-74. As confirmed earlier, most of our lung cancer patients are older people."
   ]
  },
  {
   "cell_type": "markdown",
   "metadata": {},
   "source": [
    "### Now we will construct histograms to see the distribution of some variables."
   ]
  },
  {
   "cell_type": "code",
   "execution_count": 40,
   "metadata": {},
   "outputs": [
    {
     "data": {
      "image/png": "[encoded data removed]",
      "text/plain": [
       "<Figure size 864x720 with 6 Axes>"
      ]
     },
     "metadata": {
      "needs_background": "light"
     },
     "output_type": "display_data"
    }
   ],
   "source": [
    "plt.figure(figsize=(12,10))\n",
    "vars_to_plot = ['Days_PM2.5','Hazardous_Days','Very_Unhealthy_Days','Unhealthy_Days','Moderate_Days','lc_raw']\n",
    "for i, var in enumerate(vars_to_plot):\n",
    "    plt.subplot(2,3,i+1)\n",
    "    plt.hist(dataset[var],50)\n",
    "    title_string = \"Histogram of \" + var\n",
    "    plt.title(title_string)"
   ]
  },
  {
   "cell_type": "markdown",
   "metadata": {},
   "source": [
    "* Histogram PM2.5 days is slightly skewed right. That means that some counties have very high % of PM2.5 while the rest have lower rates. \n",
    "* The histograms Hazardous days, very_unhealthy days and unhealthy days are sparse.This tells us most counties have very low rates or no hazardous, very unhealthy, and unhealthy days at all. \n",
    "* Histogram of moderate days is a normal distibution. So most counties have the average number of moderate days. \n",
    "* Lastly, Histogram of lung cancer (weighted) is right skewed, which means some counties have very high rates while most have low rates."
   ]
  },
  {
   "cell_type": "markdown",
   "metadata": {},
   "source": [
    "### What about smoking and lung cancer trends over the past 10 years?"
   ]
  },
  {
   "cell_type": "code",
   "execution_count": 41,
   "metadata": {},
   "outputs": [
    {
     "data": {
      "text/plain": [
       "<seaborn.axisgrid.FacetGrid at 0x7ff43e39f640>"
      ]
     },
     "execution_count": 41,
     "metadata": {},
     "output_type": "execute_result"
    },
    {
     "data": {
      "image/png": "[encoded data removed]",
      "text/plain": [
       "<Figure size 360x360 with 1 Axes>"
      ]
     },
     "metadata": {
      "needs_background": "light"
     },
     "output_type": "display_data"
    }
   ],
   "source": [
    "all=main.groupby(['County','Year']).sum().reset_index()\n",
    "sns.relplot(x='Year',y=\"lc/100k\",data=all,kind='line')"
   ]
  },
  {
   "cell_type": "markdown",
   "metadata": {},
   "source": [
    "It looks like lung cancer incidencies have been going down."
   ]
  },
  {
   "cell_type": "code",
   "execution_count": 42,
   "metadata": {},
   "outputs": [
    {
     "data": {
      "text/plain": [
       "<matplotlib.axes._subplots.AxesSubplot at 0x7ff43a11ad90>"
      ]
     },
     "execution_count": 42,
     "metadata": {},
     "output_type": "execute_result"
    },
    {
     "data": {
      "image/png": "[encoded data removed]",
      "text/plain": [
       "<Figure size 432x288 with 1 Axes>"
      ]
     },
     "metadata": {
      "needs_background": "light"
     },
     "output_type": "display_data"
    }
   ],
   "source": [
    "sns.lineplot(x='Year',y = 'smoking rate' , data = dataset)"
   ]
  },
  {
   "cell_type": "markdown",
   "metadata": {},
   "source": [
    "It looks like there has been a sharp decrease in smoking rate."
   ]
  },
  {
   "cell_type": "code",
   "execution_count": 43,
   "metadata": {},
   "outputs": [
    {
     "data": {
      "image/png": "[encoded data removed]",
      "text/plain": [
       "<Figure size 864x720 with 2 Axes>"
      ]
     },
     "metadata": {
      "needs_background": "light"
     },
     "output_type": "display_data"
    }
   ],
   "source": [
    "plt.figure(figsize=(12,10))\n",
    "vars_to_plot = ['smoking rate','lc(w%)']\n",
    "for i, var in enumerate(vars_to_plot):\n",
    "    plt.subplot(2,3,i+1)\n",
    "    sns.lineplot(x='Year',y = var , data = dataset)\n",
    "    title_string = \"Trend of \" + var\n",
    "    plt.xlabel('Years')\n",
    "    plt.title(title_string)"
   ]
  },
  {
   "cell_type": "markdown",
   "metadata": {},
   "source": [
    "### Now let's look at some scatter plot to observe relationships."
   ]
  },
  {
   "cell_type": "code",
   "execution_count": 44,
   "metadata": {},
   "outputs": [
    {
     "data": {
      "image/png": "[encoded data removed]",
      "text/plain": [
       "<Figure size 864x720 with 7 Axes>"
      ]
     },
     "metadata": {
      "needs_background": "light"
     },
     "output_type": "display_data"
    }
   ],
   "source": [
    "plt.figure(figsize=(12,10))\n",
    "vars_to_plot = [\"smoking rate\",'% PM2.5_Days','% Hazardous_Days','% Very_Unhealthy_Days','% Unhealthy_Days','% Moderate_Days',\"smoking rate\"]\n",
    "for i, var in enumerate(vars_to_plot):\n",
    "    plt.subplot(3,3,i+1)\n",
    "    sns.scatterplot(x=var ,y = \"lc(w%)\" , data = dataset)\n",
    "    title_string = \"lung cancer and \" + var\n",
    "    plt.xlabel('lung cancer(w%)')\n",
    "    plt.title(title_string)"
   ]
  },
  {
   "cell_type": "markdown",
   "metadata": {},
   "source": [
    "Although,some variables, like smoking, seem to be posetively correlated with lung cancer incidencies. There doesn't seem to be a strong correlation lung cancer incidencies and most of the variables."
   ]
  },
  {
   "cell_type": "markdown",
   "metadata": {},
   "source": [
    "### Let's look at time trends for air quality measures."
   ]
  },
  {
   "cell_type": "code",
   "execution_count": 45,
   "metadata": {},
   "outputs": [
    {
     "data": {
      "image/png": "[encoded data removed]",
      "text/plain": [
       "<Figure size 864x720 with 5 Axes>"
      ]
     },
     "metadata": {
      "needs_background": "light"
     },
     "output_type": "display_data"
    }
   ],
   "source": [
    "plt.figure(figsize=(12,10))\n",
    "vars_to_plot = ['% PM2.5_Days','% Hazardous_Days','% Very_Unhealthy_Days','% Unhealthy_Days',\n",
    "                '% Moderate_Days']\n",
    "for i, var in enumerate(vars_to_plot):\n",
    "    plt.subplot(3,3,i+1)\n",
    "    sns.lineplot(x='Year',y = var , data = dataset)\n",
    "    title_string = \"Trend of \" + var\n",
    "    plt.xlabel('Years')\n",
    "    plt.title(title_string)"
   ]
  },
  {
   "cell_type": "markdown",
   "metadata": {},
   "source": [
    "* We see that % of PM2.5 days, very unhealthy days,unhealthy days and moderate days have for the most part been decreasing in the past decade while hazardous days are increasing."
   ]
  },
  {
   "cell_type": "markdown",
   "metadata": {},
   "source": [
    "#### Let's look at Lung cancer incidencies by sex, race, and age group."
   ]
  },
  {
   "cell_type": "markdown",
   "metadata": {},
   "source": [
    "### Looks like the cancer incidencies has been increasing for Black people since 2015. Decreasing for the other two."
   ]
  },
  {
   "cell_type": "code",
   "execution_count": 46,
   "metadata": {},
   "outputs": [
    {
     "data": {
      "text/plain": [
       "<Figure size 864x720 with 0 Axes>"
      ]
     },
     "metadata": {},
     "output_type": "display_data"
    },
    {
     "data": {
      "image/png": "[encoded data removed]",
      "text/plain": [
       "<Figure size 360x360 with 1 Axes>"
      ]
     },
     "metadata": {
      "needs_background": "light"
     },
     "output_type": "display_data"
    }
   ],
   "source": [
    "#lung cancer by sex\n",
    "sex=main.copy()\n",
    "sex=sex.groupby([\"Year\",\"County\",\"Sex\"]).sum().reset_index()\n",
    "plt.figure(figsize=(12,10))\n",
    "\n",
    "g=sns.relplot(x='Year',y = \"lc_raw\" , data = sex, hue=\"Sex\",\n",
    "              kind=\"line\",ci=None, legend=False,palette=[\"m\",\"b\"])\n",
    "plt.legend(['Men','Women'])\n",
    "plt.title(\"Trend of Cancer incidencies, by Sex\" )\n",
    "plt.xlabel('Years')\n",
    "plt.ylabel('Lung cancer incidence, weighted by population')\n",
    "plt.show()"
   ]
  },
  {
   "cell_type": "markdown",
   "metadata": {},
   "source": [
    "Looks like cancer incidence is going down for both men and women."
   ]
  },
  {
   "cell_type": "code",
   "execution_count": 47,
   "metadata": {},
   "outputs": [
    {
     "data": {
      "text/plain": [
       "<matplotlib.legend.Legend at 0x7ff428a57400>"
      ]
     },
     "execution_count": 47,
     "metadata": {},
     "output_type": "execute_result"
    },
    {
     "data": {
      "text/plain": [
       "<Figure size 864x720 with 0 Axes>"
      ]
     },
     "metadata": {},
     "output_type": "display_data"
    },
    {
     "data": {
      "image/png": "[encoded data removed]",
      "text/plain": [
       "<Figure size 360x360 with 1 Axes>"
      ]
     },
     "metadata": {
      "needs_background": "light"
     },
     "output_type": "display_data"
    }
   ],
   "source": [
    "#lung cancer by race\n",
    "race=main.copy()\n",
    "race=race.groupby([\"Year\",\"County\",\"Race\"]).sum().reset_index()\n",
    "plt.figure(figsize=(12,10))\n",
    "\n",
    "g=sns.relplot(x='Year',y = \"lc_raw\", data = race,\n",
    "              hue=\"Race\", kind=\"line\",ci=None,legend=False,\n",
    "             palette=[\"m\",\"b\",\"y\"])\n",
    "plt.title(\"Trend of Cancer Incidencies,by Race\" )\n",
    "plt.xlabel('Years')\n",
    "plt.ylabel('Lung cancer incidence, weighted by population')\n",
    "plt.legend([\"White\",\"Black\",\"Others\"])"
   ]
  },
  {
   "cell_type": "markdown",
   "metadata": {},
   "source": [
    "Looks like incidencies is going down for white people. other races have a slight increase, while Black people have a constant rate."
   ]
  },
  {
   "cell_type": "markdown",
   "metadata": {},
   "source": [
    "### In earlier years, Men have higher rates of lung cancer but in later years women have higher rates. (look up articles on this)."
   ]
  },
  {
   "cell_type": "code",
   "execution_count": 48,
   "metadata": {},
   "outputs": [
    {
     "data": {
      "text/plain": [
       "<Figure size 864x720 with 0 Axes>"
      ]
     },
     "metadata": {},
     "output_type": "display_data"
    },
    {
     "data": {
      "image/png": "[encoded data removed]",
      "text/plain": [
       "<Figure size 360x360 with 1 Axes>"
      ]
     },
     "metadata": {
      "needs_background": "light"
     },
     "output_type": "display_data"
    }
   ],
   "source": [
    "#lung cancer by age group\n",
    "age=main.copy()\n",
    "age=age.groupby([\"Year\",\"County\",\"age_range\"]).sum().reset_index()\n",
    "#seaborn doesn't seem to like category variables so we have to change year into an integer for the plot\n",
    "dataset[\"age_range\"]=dataset[\"age_range\"].astype(int)\n",
    "\n",
    "plt.figure(figsize=(12,10))\n",
    "\n",
    "g=sns.relplot(x='Year',y = \"lc_raw\" , data = age,\n",
    "            hue=\"age_range\", kind=\"line\",ci=None, legend=False,\n",
    "              palette=[\"m\",\"b\",\"y\",'g','r','black',\"#eb4034\",\"#591a15\"])\n",
    "plt.legend(['ages 50-54','ages 55-59','ages 60-64','ages 65-69','ages 70-74','ages 75-79','ages 80-84','ages 85+'], bbox_to_anchor=(1,0.5))\n",
    "#g.fig.get_axes()[0].legend(loc='lower left')\n",
    "plt.title(\"Trend of lung_cancer, by age group\")\n",
    "plt.xlabel('Years')\n",
    "plt.show()"
   ]
  },
  {
   "cell_type": "markdown",
   "metadata": {},
   "source": [
    "Most of the age groups have a decrease in lung cancer incidence."
   ]
  },
  {
   "cell_type": "markdown",
   "metadata": {},
   "source": [
    "### To add to our earlier analysis, we can make scatter plots for our catagorical variables to see their correlation with lung cancer incidencies."
   ]
  },
  {
   "cell_type": "code",
   "execution_count": 49,
   "metadata": {},
   "outputs": [
    {
     "data": {
      "image/png": "[encoded data removed]",
      "text/plain": [
       "<Figure size 432x288 with 1 Axes>"
      ]
     },
     "metadata": {
      "needs_background": "light"
     },
     "output_type": "display_data"
    }
   ],
   "source": [
    "sns.stripplot(x=\"Sex\",y=\"lc_raw\", data=sex);"
   ]
  },
  {
   "cell_type": "code",
   "execution_count": 50,
   "metadata": {},
   "outputs": [
    {
     "data": {
      "image/png": "[encoded data removed]",
      "text/plain": [
       "<Figure size 432x288 with 1 Axes>"
      ]
     },
     "metadata": {
      "needs_background": "light"
     },
     "output_type": "display_data"
    }
   ],
   "source": [
    "sns.stripplot(x=\"Race\",y=\"lc_raw\", data=race);"
   ]
  },
  {
   "cell_type": "code",
   "execution_count": 51,
   "metadata": {},
   "outputs": [
    {
     "data": {
      "image/png": "[encoded data removed]",
      "text/plain": [
       "<Figure size 432x288 with 1 Axes>"
      ]
     },
     "metadata": {
      "needs_background": "light"
     },
     "output_type": "display_data"
    }
   ],
   "source": [
    "sns.stripplot(x=\"age_range\",y=\"lc_raw\", data=age);"
   ]
  },
  {
   "cell_type": "markdown",
   "metadata": {},
   "source": [
    "### We can make a correlation matrix to see the correlation between lung cancer incidencies and other variables. "
   ]
  },
  {
   "cell_type": "code",
   "execution_count": 52,
   "metadata": {},
   "outputs": [
    {
     "data": {
      "image/png": "[encoded data removed]",
      "text/plain": [
       "<Figure size 1080x720 with 2 Axes>"
      ]
     },
     "metadata": {
      "needs_background": "light"
     },
     "output_type": "display_data"
    }
   ],
   "source": [
    "# calculate correlation matrix for all \n",
    "plt.subplots(figsize=(15,10))\n",
    "corr = dataset[['lc/100k',\"Race\",\"Sex\",\"age_range\",'smoking rate','% Moderate_Days','% Unhealthy_Days',\n",
    "                        '% Very_Unhealthy_Days','% Hazardous_Days','% PM2.5_Days']].corr()# plot the heatmap\n",
    "sns.heatmap(corr, xticklabels=corr.columns, yticklabels=corr.columns, annot=True);"
   ]
  },
  {
   "cell_type": "markdown",
   "metadata": {},
   "source": [
    "####  Lung cancer incidence is positively correlated with smoking, sex, and hazardous days. In contrast, lung cancer lung cancer incidence is negatively correlated with race, age, moderate days, unhealthy days, very unhealthy days, and PM2.5 days."
   ]
  },
  {
   "cell_type": "markdown",
   "metadata": {},
   "source": [
    "### Do counties who have high incidence rates also have high hazardous days?\n",
    "\n",
    "Let's see which are the top five counties that have been in the top 10 of cancer incidencies and hazardous days over the years."
   ]
  },
  {
   "cell_type": "code",
   "execution_count": 53,
   "metadata": {},
   "outputs": [
    {
     "data": {
      "text/plain": [
       "County\n",
       "Mono          25\n",
       "San Benito    17\n",
       "Plumas        17\n",
       "Trinity       10\n",
       "Glenn         10\n",
       "dtype: int64"
      ]
     },
     "execution_count": 53,
     "metadata": {},
     "output_type": "execute_result"
    }
   ],
   "source": [
    "result = (\n",
    "    dataset.sort_values('lc(w%)', ascending=False) #Sort the dataframe by lung cancer rate in descending order\n",
    "        .groupby('Year').head(10) #For each year, get the top 10 counties\n",
    "        .groupby('County').size() #For each country, count how many times it appears on the top-10 list\n",
    "        .sort_values(ascending=False)#Sort the result descendingly\n",
    ")\n",
    "result.head()"
   ]
  },
  {
   "cell_type": "code",
   "execution_count": 54,
   "metadata": {},
   "outputs": [
    {
     "data": {
      "text/plain": [
       "County\n",
       "Inyo           52\n",
       "Mono           35\n",
       "Riverside      15\n",
       "San Joaquin     8\n",
       "dtype: int64"
      ]
     },
     "execution_count": 54,
     "metadata": {},
     "output_type": "execute_result"
    }
   ],
   "source": [
    "result = (\n",
    "    dataset.sort_values('% Hazardous_Days', ascending=False) #Sort the dataframe by lung cancer rate in descending order\n",
    "        .groupby('Year').head(10) #For each year, get the top 10 counties\n",
    "        .groupby('County').size() #For each country, count how many times it appears on the top-10 list\n",
    "        .sort_values(ascending=False)#Sort the result descendingly\n",
    ")\n",
    "result.head()"
   ]
  },
  {
   "cell_type": "markdown",
   "metadata": {},
   "source": [
    "***It looks like the county mono has high lung cancer incidencies and hazardous days.***"
   ]
  },
  {
   "cell_type": "markdown",
   "metadata": {},
   "source": [
    "# Regression Model"
   ]
  },
  {
   "cell_type": "markdown",
   "metadata": {},
   "source": [
    "In our analysis above, since we identified some independent variables that are correlated with lung cancer incidencies ( the dependent variable), a linear model can be used to capture this relationship quantitatively. A linear model does this by finding a line that best fits the data points. Thus, we are going to construct a multivariate linear regression.\n",
    "\n",
    "***The null hypothesis we will be testing is: Air quality has no effect on lung cancer incidencies.***\n"
   ]
  },
  {
   "cell_type": "code",
   "execution_count": 55,
   "metadata": {},
   "outputs": [
    {
     "data": {
      "text/html": [
       "<div>\n",
       "<style scoped>\n",
       "    .dataframe tbody tr th:only-of-type {\n",
       "        vertical-align: middle;\n",
       "    }\n",
       "\n",
       "    .dataframe tbody tr th {\n",
       "        vertical-align: top;\n",
       "    }\n",
       "\n",
       "    .dataframe thead th {\n",
       "        text-align: right;\n",
       "    }\n",
       "</style>\n",
       "<table border=\"1\" class=\"dataframe\">\n",
       "  <thead>\n",
       "    <tr style=\"text-align: right;\">\n",
       "      <th></th>\n",
       "      <th>level_0</th>\n",
       "      <th>index</th>\n",
       "      <th>Year</th>\n",
       "      <th>County</th>\n",
       "      <th>const</th>\n",
       "      <th>population</th>\n",
       "      <th>smoking rate</th>\n",
       "      <th>sample%</th>\n",
       "      <th>pop%</th>\n",
       "      <th>wgt</th>\n",
       "      <th>...</th>\n",
       "      <th>Black</th>\n",
       "      <th>Others</th>\n",
       "      <th>MUA indicator</th>\n",
       "      <th>ages_50-54</th>\n",
       "      <th>ages_55-59</th>\n",
       "      <th>ages_60-64</th>\n",
       "      <th>ages_65-69</th>\n",
       "      <th>ages_70-74</th>\n",
       "      <th>ages_75-79</th>\n",
       "      <th>ages_80-84</th>\n",
       "    </tr>\n",
       "  </thead>\n",
       "  <tbody>\n",
       "    <tr>\n",
       "      <th>0</th>\n",
       "      <td>0</td>\n",
       "      <td>0</td>\n",
       "      <td>2006</td>\n",
       "      <td>Alameda</td>\n",
       "      <td>13</td>\n",
       "      <td>29865</td>\n",
       "      <td>12</td>\n",
       "      <td>2e-02</td>\n",
       "      <td>7e-02</td>\n",
       "      <td>4e+00</td>\n",
       "      <td>...</td>\n",
       "      <td>0</td>\n",
       "      <td>0</td>\n",
       "      <td>1</td>\n",
       "      <td>1</td>\n",
       "      <td>0</td>\n",
       "      <td>0</td>\n",
       "      <td>0</td>\n",
       "      <td>0</td>\n",
       "      <td>0</td>\n",
       "      <td>0</td>\n",
       "    </tr>\n",
       "    <tr>\n",
       "      <th>1</th>\n",
       "      <td>1</td>\n",
       "      <td>1</td>\n",
       "      <td>2006</td>\n",
       "      <td>Alameda</td>\n",
       "      <td>9</td>\n",
       "      <td>29574</td>\n",
       "      <td>12</td>\n",
       "      <td>1e-02</td>\n",
       "      <td>7e-02</td>\n",
       "      <td>5e+00</td>\n",
       "      <td>...</td>\n",
       "      <td>0</td>\n",
       "      <td>0</td>\n",
       "      <td>1</td>\n",
       "      <td>1</td>\n",
       "      <td>0</td>\n",
       "      <td>0</td>\n",
       "      <td>0</td>\n",
       "      <td>0</td>\n",
       "      <td>0</td>\n",
       "      <td>0</td>\n",
       "    </tr>\n",
       "    <tr>\n",
       "      <th>2</th>\n",
       "      <td>2</td>\n",
       "      <td>2</td>\n",
       "      <td>2006</td>\n",
       "      <td>Alameda</td>\n",
       "      <td>9</td>\n",
       "      <td>6820</td>\n",
       "      <td>12</td>\n",
       "      <td>1e-02</td>\n",
       "      <td>2e-02</td>\n",
       "      <td>1e+00</td>\n",
       "      <td>...</td>\n",
       "      <td>1</td>\n",
       "      <td>0</td>\n",
       "      <td>1</td>\n",
       "      <td>1</td>\n",
       "      <td>0</td>\n",
       "      <td>0</td>\n",
       "      <td>0</td>\n",
       "      <td>0</td>\n",
       "      <td>0</td>\n",
       "      <td>0</td>\n",
       "    </tr>\n",
       "    <tr>\n",
       "      <th>3</th>\n",
       "      <td>3</td>\n",
       "      <td>3</td>\n",
       "      <td>2006</td>\n",
       "      <td>Alameda</td>\n",
       "      <td>16</td>\n",
       "      <td>8050</td>\n",
       "      <td>12</td>\n",
       "      <td>2e-02</td>\n",
       "      <td>2e-02</td>\n",
       "      <td>8e-01</td>\n",
       "      <td>...</td>\n",
       "      <td>1</td>\n",
       "      <td>0</td>\n",
       "      <td>1</td>\n",
       "      <td>1</td>\n",
       "      <td>0</td>\n",
       "      <td>0</td>\n",
       "      <td>0</td>\n",
       "      <td>0</td>\n",
       "      <td>0</td>\n",
       "      <td>0</td>\n",
       "    </tr>\n",
       "    <tr>\n",
       "      <th>4</th>\n",
       "      <td>4</td>\n",
       "      <td>4</td>\n",
       "      <td>2006</td>\n",
       "      <td>Alameda</td>\n",
       "      <td>2</td>\n",
       "      <td>12617</td>\n",
       "      <td>12</td>\n",
       "      <td>3e-03</td>\n",
       "      <td>3e-02</td>\n",
       "      <td>1e+01</td>\n",
       "      <td>...</td>\n",
       "      <td>0</td>\n",
       "      <td>1</td>\n",
       "      <td>1</td>\n",
       "      <td>1</td>\n",
       "      <td>0</td>\n",
       "      <td>0</td>\n",
       "      <td>0</td>\n",
       "      <td>0</td>\n",
       "      <td>0</td>\n",
       "      <td>0</td>\n",
       "    </tr>\n",
       "  </tbody>\n",
       "</table>\n",
       "<p>5 rows × 47 columns</p>\n",
       "</div>"
      ],
      "text/plain": [
       "   level_0  index  Year   County  const  population  smoking rate  sample%  \\\n",
       "0        0      0  2006  Alameda     13       29865            12    2e-02   \n",
       "1        1      1  2006  Alameda      9       29574            12    1e-02   \n",
       "2        2      2  2006  Alameda      9        6820            12    1e-02   \n",
       "3        3      3  2006  Alameda     16        8050            12    2e-02   \n",
       "4        4      4  2006  Alameda      2       12617            12    3e-03   \n",
       "\n",
       "    pop%    wgt  ...  Black  Others  MUA indicator  ages_50-54  ages_55-59  \\\n",
       "0  7e-02  4e+00  ...      0       0              1           1           0   \n",
       "1  7e-02  5e+00  ...      0       0              1           1           0   \n",
       "2  2e-02  1e+00  ...      1       0              1           1           0   \n",
       "3  2e-02  8e-01  ...      1       0              1           1           0   \n",
       "4  3e-02  1e+01  ...      0       1              1           1           0   \n",
       "\n",
       "   ages_60-64  ages_65-69  ages_70-74  ages_75-79  ages_80-84  \n",
       "0           0           0           0           0           0  \n",
       "1           0           0           0           0           0  \n",
       "2           0           0           0           0           0  \n",
       "3           0           0           0           0           0  \n",
       "4           0           0           0           0           0  \n",
       "\n",
       "[5 rows x 47 columns]"
      ]
     },
     "execution_count": 55,
     "metadata": {},
     "output_type": "execute_result"
    }
   ],
   "source": [
    "#We need to create dummy variables for our catagorical variables\n",
    "dataset_reg=dataset.copy()\n",
    "dataset_reg=pd.get_dummies(dataset_reg,columns=[\"Sex\",\"Race\",\"MUA_indicator\"],drop_first=True)\n",
    "names={\"Sex_1.0\":\"female\",\n",
    "      \"Race_2.0\":\"Black\",\n",
    "      \"Race_3.0\":\"Others\",\n",
    "      \"MUA_indicator_1.0\":\"MUA indicator\",\n",
    "      \"freq\":\"const\"\n",
    "      }\n",
    "dataset_reg.rename(columns=names,inplace=True)\n",
    "dataset_reg=pd.get_dummies(dataset_reg,columns=[\"age_range\"])\n",
    "ages={\"age_range_11\":\"ages_50-54\",\n",
    "       \"age_range_12\":\"ages_55-59\",\n",
    "       \"age_range_13\":\"ages_60-64\",\n",
    "       \"age_range_14\":\"ages_65-69\",\n",
    "       \"age_range_15\":\"ages_70-74\",\n",
    "       \"age_range_16\":\"ages_75-79\",\n",
    "       \"age_range_17\":\"ages_80-84\"\n",
    "      }\n",
    "dataset_reg.drop(\"age_range_18\",axis=1,inplace=True)\n",
    "#dataset_reg['lung_cancer(w%)']=dataset_reg['lung_cancer(w%)']*100\n",
    "dataset_reg.rename(columns=ages,inplace=True)\n",
    "dataset_reg.head()"
   ]
  },
  {
   "cell_type": "code",
   "execution_count": 56,
   "metadata": {},
   "outputs": [
    {
     "ename": "AttributeError",
     "evalue": "module 'statsmodels.formula.api' has no attribute 'OLS'",
     "output_type": "error",
     "traceback": [
      "\u001b[0;31m---------------------------------------------------------------------------\u001b[0m",
      "\u001b[0;31mAttributeError\u001b[0m                            Traceback (most recent call last)",
      "\u001b[0;32m<ipython-input-56-2eaeb23ab097>\u001b[0m in \u001b[0;36m<module>\u001b[0;34m\u001b[0m\n\u001b[1;32m      1\u001b[0m \u001b[0;31m# Fit and summarize OLS model\u001b[0m\u001b[0;34m\u001b[0m\u001b[0;34m\u001b[0m\u001b[0;34m\u001b[0m\u001b[0m\n\u001b[0;32m----> 2\u001b[0;31m model = sm.OLS(endog=dataset_reg['lc/100k'],\n\u001b[0m\u001b[1;32m      3\u001b[0m                exog=dataset_reg[[\"const\",'smoking rate',\"female\",\"Black\",\"Others\",\n\u001b[1;32m      4\u001b[0m                                     \u001b[0;34m\"ages_50-54\"\u001b[0m\u001b[0;34m,\u001b[0m\u001b[0;34m\"ages_55-59\"\u001b[0m\u001b[0;34m,\u001b[0m\u001b[0;34m\"ages_60-64\"\u001b[0m\u001b[0;34m,\u001b[0m\u001b[0;34m\"ages_65-69\"\u001b[0m\u001b[0;34m,\u001b[0m\u001b[0;34m\"ages_70-74\"\u001b[0m\u001b[0;34m,\u001b[0m\u001b[0;34m\u001b[0m\u001b[0;34m\u001b[0m\u001b[0m\n\u001b[1;32m      5\u001b[0m                                     \u001b[0;34m\"ages_75-79\"\u001b[0m\u001b[0;34m,\u001b[0m\u001b[0;34m\"ages_80-84\"\u001b[0m\u001b[0;34m,\u001b[0m\u001b[0;34m\"MUA indicator\"\u001b[0m\u001b[0;34m,\u001b[0m\u001b[0;34m\u001b[0m\u001b[0;34m\u001b[0m\u001b[0m\n",
      "\u001b[0;31mAttributeError\u001b[0m: module 'statsmodels.formula.api' has no attribute 'OLS'"
     ]
    }
   ],
   "source": [
    "# Fit and summarize OLS model\n",
    "model = sm.OLS(endog=dataset_reg['lc/100k'],\n",
    "               exog=dataset_reg[[\"const\",'smoking rate',\"female\",\"Black\",\"Others\",\n",
    "                                    \"ages_50-54\",\"ages_55-59\",\"ages_60-64\",\"ages_65-69\",\"ages_70-74\",\n",
    "                                    \"ages_75-79\",\"ages_80-84\",\"MUA indicator\",\n",
    "                                    \"% Moderate_Days\",\"% Unhealthy_Days\",\"% Good_Days\",\"% Hazardous_Days\",\"% PM2.5_Days\"]]).fit()\n",
    "\n",
    "print(model.summary())"
   ]
  },
  {
   "cell_type": "markdown",
   "metadata": {},
   "source": [
    "***Note:** \n",
    "For our dummy variables, men, white, ages 85+ are the references.\n",
    "MUA is a proxy for socioeconomic status."
   ]
  },
  {
   "cell_type": "markdown",
   "metadata": {},
   "source": [
    "## Interpreting the regression output:\n",
    "\n",
    "### Coefficients\n",
    "* Holding sex, race, age, and air quality constant, on average, If the smoking rates goes up by 1%, the cancer rate goes up 0.05%, on average. \n",
    "\n",
    "* Holding sex, race, age, and air quality constant, on average, women have 0.41% higher lung cancer incidencies than men.\n",
    "\n",
    "* Holding sex, race, age, and air quality constant, on average, Black people have 5.93% less lung cancer incidencies than white people.\n",
    "\n",
    "* Holding sex, race, age, and air quality constant, on average, other races have 5.18% less lung cancer incidencies than white people.\n",
    "\n",
    "* Holding sex, race, age, and air quality constant, on average, ages 50-54 have 4.52% higher lung cancer incidencies than other age 85+.\n",
    "\n",
    "* Holding sex, race, age, and air quality constant, on average, ages 55-59 have 4.22% higher lung cancer incidencies than other age 85+.\n",
    "\n",
    "* Holding sex, race, age, and air quality constant, on average, ages 60-64 have 3.61% higher lung cancer incidencies than other age 85+.\n",
    "\n",
    "* Holding sex, race, age, and air quality constant, on average, ages 65-69 have 2.62% higher lung cancer incidencies than other age 85+.\n",
    "\n",
    "* Holding sex, race, age, and air quality constant, on average, ages 70-74 have 1.53% higher lung cancer incidencies than other age 85+.\n",
    "\n",
    "* Holding sex, race, age, and air quality constant, on average, ages 75-79 have 0.79% higher lung cancer incidencies than other age 85+.\n",
    "\n",
    "* Holding sex, race, age, and air quality constant, on average, ages 80-84 have 0.17% higher lung cancer incidencies than other age 85+.\n",
    "\n",
    "* Holding sex, race, age, and air quality constant, on average, Medically underserved areas (MUA) have 1.1% less cancer incidencies than non-MUA.\n",
    "\n",
    "* Holding sex, race, age, and air quality constant, on average, If the moderate days goes up by 1%, the lung cancer incidencies goes up by 0.04%.\n",
    "\n",
    "* Holding sex, race, age, and air quality constant, on average, If the unhealthy days goes up by 1%, the lung cancer incidencies goes up by 0.01%.\n",
    "\n",
    "* Holding sex, race, age, and air quality constant, on average, If the hazardous days goes up by 1%, the lung cancer incidencies goes up by 4.13%.\n",
    "\n",
    "* Holding sex, race, age, and air quality constant, on average, If the PM2.5 days goes up by 1%, the lung cancer incidencies goes up by 0.007%.\n",
    "\n",
    "### P-values\n",
    "* All of the coefficients p-values are less than 0.05, which means they are statistically significant.Thus, we reject the null hypothesis and we can say there is strong evidence that air quality does has an effect on lung cancer.\n",
    "\n",
    "### The coefficient of multiple determination (R^2)\n",
    "\n",
    "* The R^2 is 0.832. It means that 83.2% of lung cancer incidencie variariation can be explained by race, sex, age, smoking rate, and air quality measures. In other words, our equation fits the data pretty well."
   ]
  },
  {
   "cell_type": "markdown",
   "metadata": {},
   "source": [
    "## Conclusion\n",
    "\n",
    "Our analysis looked at the air quality measures and their relationship to lung cancer incidencies. Adjusting for sex, race, age, and socioeconomic status, we found that their is strong evidence that air quality has an effect on lung cancer incidencies."
   ]
  },
  {
   "cell_type": "markdown",
   "metadata": {},
   "source": []
  }
 ],
 "metadata": {
  "kernelspec": {
   "display_name": "Python 3",
   "language": "python",
   "name": "python3"
  },
  "language_info": {
   "codemirror_mode": {
    "name": "ipython",
    "version": 3
   },
   "file_extension": ".py",
   "mimetype": "text/x-python",
   "name": "python",
   "nbconvert_exporter": "python",
   "pygments_lexer": "ipython3",
   "version": "3.8.3"
  }
 },
 "nbformat": 4,
 "nbformat_minor": 2
}
